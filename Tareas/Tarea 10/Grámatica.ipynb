{
  "cells": [
    {
      "cell_type": "markdown",
      "metadata": {
        "id": "view-in-github",
        "colab_type": "text"
      },
      "source": [
        "<a href=\"https://colab.research.google.com/github/danielfrgs/2022_1-Reconocimiento-Patrones/blob/main/Tareas/Tarea%2010/Gra%CC%81matica.ipynb\" target=\"_parent\"><img src=\"https://colab.research.google.com/assets/colab-badge.svg\" alt=\"Open In Colab\"/></a>"
      ]
    },
    {
      "cell_type": "markdown",
      "source": [
        "# Laboratorio 8: Implementación de la Grámatica\n",
        "\n",
        "Daniel Fragoso Alvarado\n",
        "\n",
        "Jesús Enrique Gómez Martínez\n",
        "\n",
        "Hugo Rangel Rámirez \n",
        "\n",
        "Marlene Viviane Ayala Salcedo"
      ],
      "metadata": {
        "cell_id": "b91813f5258e49288031426cf30ebd46",
        "tags": [],
        "deepnote_cell_type": "markdown",
        "deepnote_cell_height": 245.171875,
        "id": "gdlNc92ZfknO"
      }
    },
    {
      "cell_type": "code",
      "source": [
        "# Vamos a definir una función auxiliar que permita obtener las posibles estados finales según la 'letra'.\n",
        "# Esto se ocupa ya que hay varias posibilidades de camino.\n",
        "\n",
        "def posibles(letra):\n",
        "    return [b for [a,b] in Estados if a == letra]"
      ],
      "metadata": {
        "cell_id": "1885cb3c732f40b09399fcb711deb6f6",
        "tags": [],
        "deepnote_to_be_reexecuted": false,
        "source_hash": "586bf602",
        "execution_start": 1653183632662,
        "execution_millis": 35,
        "deepnote_cell_type": "code",
        "deepnote_cell_height": 153,
        "deepnote_output_heights": [
          21.1875
        ],
        "id": "XqBsfhJpfknV"
      },
      "outputs": [],
      "execution_count": null
    },
    {
      "cell_type": "code",
      "source": [
        "# Vamos a definir las cadenas de prueba:\n",
        "c1 = 'cbbbabbbbdbbbbabbbcbbbabbbbdbbbbabbb'\n",
        "c2 = 'cbabbbdbbbbbabbbcbbbabbbbbdbbbab'\n",
        "c3 = 'cadbbbbbbabbbbbcbbbbbabbbbbbda'"
      ],
      "metadata": {
        "cell_id": "2f24e33351364b7ab365ab530b1c70e2",
        "tags": [],
        "deepnote_to_be_reexecuted": false,
        "source_hash": "7ad76853",
        "execution_start": 1653183632698,
        "execution_millis": 0,
        "owner_user_id": "f24017f3-5ae2-4e20-9c46-1881aa416582",
        "deepnote_cell_type": "code",
        "deepnote_cell_height": 135,
        "id": "Jlk2gmWHfknW"
      },
      "outputs": [],
      "execution_count": null
    },
    {
      "cell_type": "markdown",
      "source": [
        "La siguiente función recibe una lista de estados, en el la lista `lista_opciones` se agregarán todas las opciones de regla cambiando la primera variable en la lista dada, por una regla. A todos los elementos de `lista_opciones`se le aplicará lo mismo recursivamente, de tal manera que eventualmente se obtendrá una cadena de puros estados finales, o en su defecto, la lista de estados sobrepasará la longitud de la cadena que se quiere corroborar, por lo que ese camino no es el correcto."
      ],
      "metadata": {
        "cell_id": "2a47cb309d024472a77c6c8432eefc5e",
        "tags": [],
        "deepnote_cell_type": "markdown",
        "deepnote_cell_height": 119.5625,
        "id": "82AZ8f0PfknX"
      }
    },
    {
      "cell_type": "code",
      "source": [
        "def recursion(lista, cadena, valor=None):\n",
        "    # En la primera recursión definimos el valor de \"valor\" como Falso\n",
        "    if valor is None:\n",
        "        valor = False\n",
        "\n",
        "    # Lista que almacenará las listas de estados cambiando la primera variable por todas sus \n",
        "    # posibles opciones siguiendo las reglas\n",
        "    lista_opciones = []\n",
        "    # Lista que almacena los estados antes de la primera varible\n",
        "    aux = []\n",
        "    # Definción de índice\n",
        "    index = None\n",
        "    # Almacena en aux los estados antes de la primera variable, en cuanto se encuentra la \n",
        "    # primera variable se guarda la posición en que se encuentra y se sale del ciclo\n",
        "    for i in range(len(lista)):\n",
        "        if lista[i] not in Vi:\n",
        "            aux = aux + list(lista[i])\n",
        "        else:\n",
        "            index = i\n",
        "            break\n",
        "    # Si el índice sigue siendo None, es decir ya no hay variables:\n",
        "    if index is None:\n",
        "        # Si lo que obtuvimos fue la cadena retorna verdadero, si no, retorna falso\n",
        "        if lista == list(cadena):\n",
        "            return True\n",
        "        else:\n",
        "            return False\n",
        "    # Susutituye la primera variable por todas las posibles opciones\n",
        "    posibles_l = posibles(lista[index])\n",
        "    for i in range(len(posibles_l)):\n",
        "        lista_opciones.append(aux + list(posibles_l[i]))\n",
        "    # Termina de copiar lo que seguía en la lista de estados, después de la primera variable\n",
        "    for i in range(len(lista_opciones)):\n",
        "        lista_opciones[i] =  lista_opciones[i] + lista[index+1:]\n",
        "\n",
        "    contador = 0\n",
        "\n",
        "    # Por cada posible camino:\n",
        "    for l in lista_opciones:\n",
        "        # Si hay menos o igual estados que la longitud de la cadena:\n",
        "        if len(l) <= len(cadena):\n",
        "            # Haz recursión sobre las opciones\n",
        "            valor = valor or recursion(l,cadena, valor)\n",
        "            # Si la recursión te devuelve verdadero, devuelve verdadero\n",
        "            if valor:\n",
        "                return True\n",
        "        else:\n",
        "            contador += 1\n",
        "    # Si no se hizo recursión sobre ningún elemento de lista de opciones devuelve Falso\n",
        "    if contador == len(lista_opciones):\n",
        "        return False\n",
        "    # Devuelve falso \n",
        "    return False"
      ],
      "metadata": {
        "cell_id": "217ee48817d9414da95d3bfcb08ae8fc",
        "tags": [],
        "deepnote_to_be_reexecuted": false,
        "source_hash": "33a06aee",
        "execution_start": 1653183632699,
        "execution_millis": 0,
        "owner_user_id": "7415cea2-22ab-4de9-96e0-f07f3763834a",
        "deepnote_cell_type": "code",
        "deepnote_cell_height": 1017,
        "deepnote_output_heights": [
          21.1875,
          21.1875
        ],
        "id": "87hJV80AfknX"
      },
      "outputs": [],
      "execution_count": null
    },
    {
      "cell_type": "markdown",
      "source": [
        "### Median"
      ],
      "metadata": {
        "cell_id": "87052bb6e71a44edb23b6757d6909525",
        "tags": [],
        "deepnote_cell_type": "markdown",
        "deepnote_cell_height": 62,
        "id": "I8_PcdcIfknY"
      }
    },
    {
      "cell_type": "markdown",
      "source": [
        "La función requiere de la actualización de estos valores de forma indepediente dentro del entorno de ejecución. Esta no es una buena práctica. "
      ],
      "metadata": {
        "cell_id": "320d61c00eaf4727a9db56af40c5d2ef",
        "tags": [],
        "deepnote_cell_type": "markdown",
        "deepnote_cell_height": 74.78125,
        "id": "YSPvhTIvfknZ"
      }
    },
    {
      "cell_type": "code",
      "metadata": {
        "tags": [],
        "cell_id": "1c1f8c3d-3cff-4895-998c-2af74d0fb636",
        "deepnote_to_be_reexecuted": false,
        "source_hash": "84c4bcf1",
        "execution_start": 1653183632700,
        "execution_millis": 0,
        "deepnote_cell_type": "code",
        "deepnote_cell_height": 207,
        "id": "In4SxpT0fknZ"
      },
      "source": [
        "# Lista de Estados\n",
        "Vi= ['S', 'A', 'B', 'D', 'H', 'J', 'E', 'F']\n",
        "# Estado Inicial\n",
        "Ei = 'S'\n",
        "# Lista de acciones\n",
        "Estados = [['S', 'AA'], ['A', 'cB'],  ['B', 'FBE'], ['B', 'HDJ'], ['D', 'FDE'], \n",
        "['D', 'd'], ['F', 'b'], ['E', 'b'], ['H', 'a'], ['J', 'a']]\n"
      ],
      "execution_count": null,
      "outputs": []
    },
    {
      "cell_type": "markdown",
      "source": [
        "Vamos a ejecutar la función para cada cadena de prueba:"
      ],
      "metadata": {
        "cell_id": "3bf22d1031094f84b53b6b803a6f7895",
        "tags": [],
        "deepnote_cell_type": "markdown",
        "deepnote_cell_height": 52.390625,
        "id": "Fi1aefDtfkna"
      }
    },
    {
      "cell_type": "code",
      "source": [
        "recursion([Ei], c1)"
      ],
      "metadata": {
        "cell_id": "4d1404e2bbe24db58d2700b2d3abfa9d",
        "tags": [],
        "deepnote_to_be_reexecuted": false,
        "source_hash": "eebd93f1",
        "execution_start": 1653183632748,
        "execution_millis": 335,
        "deepnote_cell_type": "code",
        "deepnote_cell_height": 118.1875,
        "deepnote_output_heights": [
          21.1875
        ],
        "id": "kkLThAwOfknb",
        "outputId": "814b6b41-0192-4429-e210-e1ac77f6538a"
      },
      "outputs": [
        {
          "output_type": "execute_result",
          "execution_count": 5,
          "data": {
            "text/plain": "True"
          },
          "metadata": {}
        }
      ],
      "execution_count": null
    },
    {
      "cell_type": "code",
      "source": [
        "recursion([Ei], c2)"
      ],
      "metadata": {
        "cell_id": "40894f5b2c39471d86dbd33f055fc306",
        "tags": [],
        "deepnote_to_be_reexecuted": false,
        "source_hash": "10a81668",
        "execution_start": 1653183633097,
        "execution_millis": 750,
        "deepnote_cell_type": "code",
        "deepnote_cell_height": 118.1875,
        "deepnote_output_heights": [
          21.1875
        ],
        "id": "UAS7aL_cfknc",
        "outputId": "abf17fb1-f9a8-481f-cb94-b3b0637cdb06"
      },
      "outputs": [
        {
          "output_type": "execute_result",
          "execution_count": 6,
          "data": {
            "text/plain": "False"
          },
          "metadata": {}
        }
      ],
      "execution_count": null
    },
    {
      "cell_type": "code",
      "source": [
        "recursion([Ei], c3)"
      ],
      "metadata": {
        "cell_id": "ca68b1f8115044df9fbdf4e6bd6cbe10",
        "tags": [],
        "deepnote_to_be_reexecuted": false,
        "source_hash": "19530505",
        "execution_start": 1653183633567,
        "execution_millis": 321,
        "deepnote_cell_type": "code",
        "deepnote_cell_height": 118.1875,
        "deepnote_output_heights": [
          21.1875
        ],
        "id": "XbACg3PTfkne",
        "outputId": "85bbe6d7-2a4c-479b-a665-9fbb7db8523f"
      },
      "outputs": [
        {
          "output_type": "execute_result",
          "execution_count": 7,
          "data": {
            "text/plain": "False"
          },
          "metadata": {}
        }
      ],
      "execution_count": null
    },
    {
      "cell_type": "markdown",
      "source": [
        "### Submedian"
      ],
      "metadata": {
        "cell_id": "1f335b39dd0347d984e118155bdbe759",
        "tags": [],
        "deepnote_cell_type": "markdown",
        "deepnote_cell_height": 62,
        "id": "cQLWC8M1fknf"
      }
    },
    {
      "cell_type": "code",
      "source": [
        "# Definimos las caracteristicas de nuestra grámatica ahora para submedian:\n",
        "\n",
        "# Lista de estados\n",
        "Vi= ['S', 'A', 'B', 'D', 'H', 'J', 'E', 'F', 'W', 'G', 'R', 'L', 'M', 'N']\n",
        "# Estado Inicial\n",
        "Ei = 'S'\n",
        "# Lista de Acciones\n",
        "Estados = [['S', 'AA'], ['A', 'cM'],  ['B', 'FBE'], ['B', 'FL'], ['B', 'RE'], ['D', 'FDE'], ['D', 'FG'],\n",
        "['D', 'WE'], ['L', 'FL'], ['R', 'RE'], ['G', 'FG'], ['W', 'WE'], ['F', 'b'], ['E', 'b'], ['H', 'a'], ['M', 'FBE'],\n",
        "['J', 'a'], ['L', 'HNJ'], ['R', 'HNJ'], ['G', 'd'], ['W', 'd'], ['N', 'FDE']] "
      ],
      "metadata": {
        "cell_id": "20282d1c803b40a5a2ddeb83171a0902",
        "tags": [],
        "deepnote_to_be_reexecuted": false,
        "source_hash": "d1f2030d",
        "execution_start": 1653183633883,
        "execution_millis": 6,
        "deepnote_cell_type": "code",
        "deepnote_cell_height": 243,
        "id": "4Ece_s0Dfknf"
      },
      "outputs": [],
      "execution_count": null
    },
    {
      "cell_type": "markdown",
      "source": [
        "Vamos a ejecutar la función para cada cadena de prueba:"
      ],
      "metadata": {
        "cell_id": "9a078bcaad944156b146a0a703711bd0",
        "tags": [],
        "deepnote_cell_type": "markdown",
        "deepnote_cell_height": 52.390625,
        "id": "xMAGM36xfkng"
      }
    },
    {
      "cell_type": "code",
      "source": [
        "# Advertecia esta tarda al rededor de 20 minutos, tome sus precausiones\n",
        "recursion([Ei], c1)"
      ],
      "metadata": {
        "cell_id": "0142cea5e8a24b1e9ea4457f5d0e1d60",
        "tags": [],
        "deepnote_to_be_reexecuted": false,
        "source_hash": "1ecdd088",
        "execution_start": 1653183633898,
        "execution_millis": 655448,
        "deepnote_cell_type": "code",
        "deepnote_cell_height": 136.1875,
        "deepnote_output_heights": [
          21.1875
        ],
        "id": "3NjsRM8-fkng",
        "outputId": "5a20a2a0-e01e-4467-fa13-98d1b2c92df4"
      },
      "outputs": [
        {
          "output_type": "execute_result",
          "execution_count": 9,
          "data": {
            "text/plain": "False"
          },
          "metadata": {}
        }
      ],
      "execution_count": null
    },
    {
      "cell_type": "code",
      "source": [
        "recursion([Ei], c2)"
      ],
      "metadata": {
        "cell_id": "cdf7919d927f45b784f14aea3b87cda6",
        "tags": [],
        "deepnote_to_be_reexecuted": false,
        "source_hash": "10a81668",
        "execution_start": 1653184289345,
        "execution_millis": 113855,
        "deepnote_cell_type": "code",
        "deepnote_cell_height": 118.1875,
        "deepnote_output_heights": [
          21.1875
        ],
        "id": "rgdn0OPsfkng",
        "outputId": "372aef4a-5151-4180-f738-da5fb8da6748"
      },
      "outputs": [
        {
          "output_type": "execute_result",
          "execution_count": 10,
          "data": {
            "text/plain": "True"
          },
          "metadata": {}
        }
      ],
      "execution_count": null
    },
    {
      "cell_type": "code",
      "source": [
        "recursion([Ei], c3)"
      ],
      "metadata": {
        "cell_id": "166bab3e411f405bb2b718822cbcc9c7",
        "tags": [],
        "deepnote_to_be_reexecuted": false,
        "source_hash": "19530505",
        "execution_start": 1653184403197,
        "execution_millis": 45336,
        "deepnote_cell_type": "code",
        "deepnote_cell_height": 118.1875,
        "deepnote_output_heights": [
          21.1875
        ],
        "id": "hVUrcWOwfknh",
        "outputId": "62edf541-a99f-42ff-c47d-40c419629d02"
      },
      "outputs": [
        {
          "output_type": "execute_result",
          "execution_count": 11,
          "data": {
            "text/plain": "False"
          },
          "metadata": {}
        }
      ],
      "execution_count": null
    },
    {
      "cell_type": "markdown",
      "source": [
        "### Acrocentric"
      ],
      "metadata": {
        "cell_id": "48dc6b3bd1854ec8a6aa5132734d16ab",
        "tags": [],
        "deepnote_cell_type": "markdown",
        "deepnote_cell_height": 62,
        "id": "Em6NBlSmfkni"
      }
    },
    {
      "cell_type": "code",
      "source": [
        "# Definimos las caracteristicas de nuestra grámatica ahora para acrocentric:\n",
        "\n",
        "# Lista de estados\n",
        "Vi= ['S', 'A', 'B', 'D', 'H', 'J', 'E', 'F', 'W', 'G', 'R', 'L']\n",
        "# Estado Incial\n",
        "Ei = 'S'\n",
        "# Lista de Acciones\n",
        "Estados = [['S', 'AA'], ['A', 'cB'],  ['B', 'FL'], ['B', 'RE'], ['D', 'FG'],\n",
        "['D', 'WE'], ['L', 'FL'], ['R', 'RE'], ['G', 'FG'], ['W', 'WE'],  ['L', 'HDJ'], ['H', 'a'],\n",
        "['R', 'HDJ'], ['G', 'd'], ['W', 'd'], ['J', 'a'], ['E', 'b'], ['F', 'b']] "
      ],
      "metadata": {
        "cell_id": "1f2c27a7935a45a186450ba2f1bc8f44",
        "tags": [],
        "deepnote_to_be_reexecuted": false,
        "source_hash": "51e8789f",
        "execution_start": 1653184448541,
        "execution_millis": 2,
        "deepnote_cell_type": "code",
        "deepnote_cell_height": 243,
        "id": "LliOtgnffkni"
      },
      "outputs": [],
      "execution_count": null
    },
    {
      "cell_type": "markdown",
      "source": [
        "Vamos a ejecutar la función para cada cadena de prueba:"
      ],
      "metadata": {
        "cell_id": "25d1521a9e154e1b969a32b672401d04",
        "tags": [],
        "deepnote_cell_type": "markdown",
        "deepnote_cell_height": 52.390625,
        "id": "YeEc2gkxfknj"
      }
    },
    {
      "cell_type": "code",
      "source": [
        "recursion(['S'], c1)"
      ],
      "metadata": {
        "cell_id": "793c06027f90493685503b8fb60c1dd7",
        "tags": [],
        "deepnote_to_be_reexecuted": false,
        "source_hash": "47229f8",
        "execution_start": 1653184448558,
        "execution_millis": 118883,
        "deepnote_cell_type": "code",
        "deepnote_cell_height": 118.1875,
        "deepnote_output_heights": [
          21.1875
        ],
        "id": "IuNEydlsfknj",
        "outputId": "4545fce1-6ee5-4344-983a-a846f79fdd09"
      },
      "outputs": [
        {
          "output_type": "execute_result",
          "execution_count": 13,
          "data": {
            "text/plain": "False"
          },
          "metadata": {}
        }
      ],
      "execution_count": null
    },
    {
      "cell_type": "code",
      "source": [
        "recursion(['S'], c2)"
      ],
      "metadata": {
        "cell_id": "893deef6d8de42b693abe073da4f84e7",
        "tags": [],
        "deepnote_to_be_reexecuted": false,
        "source_hash": "2893c2df",
        "execution_start": 1653184567441,
        "execution_millis": 60070,
        "deepnote_cell_type": "code",
        "deepnote_cell_height": 118.1875,
        "deepnote_output_heights": [
          21.1875
        ],
        "id": "SsoF85Wpfknj",
        "outputId": "d01fb7ba-5a88-4588-af71-a23de947669b"
      },
      "outputs": [
        {
          "output_type": "execute_result",
          "execution_count": 14,
          "data": {
            "text/plain": "False"
          },
          "metadata": {}
        }
      ],
      "execution_count": null
    },
    {
      "cell_type": "code",
      "source": [
        "recursion(['S'], c3)"
      ],
      "metadata": {
        "cell_id": "8d30790ff80b4ad3986cae76d9887388",
        "tags": [],
        "deepnote_to_be_reexecuted": false,
        "source_hash": "7240c3d8",
        "execution_start": 1653184627517,
        "execution_millis": 20040,
        "deepnote_cell_type": "code",
        "deepnote_cell_height": 118,
        "deepnote_output_heights": [
          21.1875
        ],
        "id": "paV3Nr7mfknk",
        "outputId": "564edc1f-648f-4f7e-9b7e-915cb2db8b9f"
      },
      "outputs": [
        {
          "output_type": "execute_result",
          "execution_count": 15,
          "data": {
            "text/plain": "True"
          },
          "metadata": {}
        }
      ],
      "execution_count": null
    }
  ],
  "nbformat": 4,
  "nbformat_minor": 0,
  "metadata": {
    "orig_nbformat": 2,
    "deepnote": {},
    "deepnote_notebook_id": "2ac3f4ac-4ef9-459a-b4fb-af99462cb702",
    "deepnote_execution_queue": [],
    "colab": {
      "name": "Grámatica.ipynb",
      "provenance": [],
      "include_colab_link": true
    }
  }
}