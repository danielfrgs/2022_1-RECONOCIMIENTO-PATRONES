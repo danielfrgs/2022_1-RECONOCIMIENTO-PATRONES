{
  "cells": [
    {
      "cell_type": "markdown",
      "metadata": {
        "id": "view-in-github",
        "colab_type": "text"
      },
      "source": [
        "<a href=\"https://colab.research.google.com/github/danielfrgs/2022_1-Reconocimiento-Patrones/blob/main/Tareas/Tarea%209/Automata.ipynb\" target=\"_parent\"><img src=\"https://colab.research.google.com/assets/colab-badge.svg\" alt=\"Open In Colab\"/></a>"
      ]
    },
    {
      "cell_type": "markdown",
      "source": [
        "# Laboratorio 7: Implementación de un Autómata\n",
        "\n",
        "Daniel Fragoso Alvarado\n",
        "\n",
        "Jesús Enrique Gómez Martínez\n",
        "\n",
        "Hugo Rangel Rámirez "
      ],
      "metadata": {
        "cell_id": "ca49560a1b8c4cb689ad9d1d6b04d9f9",
        "tags": [],
        "deepnote_cell_type": "markdown",
        "deepnote_cell_height": 245.1875,
        "id": "Dt9Y4fQNghFU"
      }
    },
    {
      "cell_type": "code",
      "source": [
        "class Automata:\n",
        "    '''\n",
        "    ----------\n",
        "    Clase que ejecuta un Autómata de PILA FINITO DETERMINISTA, con la posibilidad de validación por pila vacía.\n",
        "    ----------\n",
        "    Parámetros:\n",
        "        Q : Lista de Estados\n",
        "        Sigma : Alfabeto de entrada\n",
        "        Gamma : Alfabeto de la Pila\n",
        "        delta :  Diccionario de Estados\n",
        "        q0 : Estado(S) Inicil(ES)\n",
        "        z0 : Simbolo Inicial de la Pila\n",
        "        F : Lista Estados Finales\n",
        "        vacias : Booleano que indica si acepta por Pila vácia.\n",
        "    \n",
        "    Convencioes de Simbolos de la operacion de pila:\n",
        "        epsilon : Simbolo para la extracción\n",
        "        X : Simbolo para la lectura sin hacer ninguna acción \n",
        "        Y/Z : Operación X se remplaza por Z y Y se introduce en la Pila\n",
        "        \n",
        "    Convención de la fución delta:\n",
        "        (estado, lo que lee, top pila) : (estado al que llega, operacion)\n",
        "\n",
        "    Notas:\n",
        "        1. Gamma no puede contener a 'epsilon' como simbolo.\n",
        "    '''\n",
        "    # Definimos los elementos del automata\n",
        "    def __init__(self, Q, Sigma, Gamma, delta, q0, z0, F, vacias = True):\n",
        "        self.Q = Q\n",
        "        self.Sigma = Sigma\n",
        "        self.Gamma = Gamma\n",
        "        self.delta = delta\n",
        "        self.q0 = q0\n",
        "        self.z0 = z0\n",
        "        self.F = F\n",
        "        self.vacias = vacias\n",
        "\n",
        "    # Función que extrae \n",
        "    def epsilon(self, pila):\n",
        "        pila.pop()\n",
        "    \n",
        "    # Función que remplaza X y lo sustituye por Y, luego ingresa Z.     \n",
        "    def YZ(self, yz, pila):\n",
        "        # Separamos la cadena entre valor y operación\n",
        "        Y, Z = yz.split('/')\n",
        "        # Aplicamos la fución epsilon y agregamos Z.\n",
        "        if Y == 'epsilon':\n",
        "            self.epsilon(pila)\n",
        "            pila.append(Z)\n",
        "        # Remplazamos y agregamos\n",
        "        else:\n",
        "            pila.pop()\n",
        "            pila.append(Z)\n",
        "            pila.append(Y)\n",
        "\n",
        "\n",
        "    def decide(self, cadena):\n",
        "        '''\n",
        "        Función que determina si  una cadena pertenece al lenguaje.\n",
        "\n",
        "        Parámetros:\n",
        "            cadena: String que deseamos identificar como parte de uestro lenguaje.\n",
        "        '''\n",
        "        # Verificación de que la cadena pertenezca a nuestro lenguaje.\n",
        "        assert all(x in self.Sigma for x in list(cadena)), 'La cadena tiene caracteres que no pertenecen al vocabulario'\n",
        "\n",
        "        # Iniciamos la pila con el estado inicial de la pila z0\n",
        "        pila = [self.z0]\n",
        "        # Iniciamos la lectura de estados iniciando en el inicial q0\n",
        "        actual=self.q0\n",
        "        # Cambiamos el orden de la caden apara poder hacer uso de las funciones sobre lista.\n",
        "        cadena=list(cadena)[::-1]\n",
        "\n",
        "        # Iniciamos un ciclo que se itere hasta el final de la cadena\n",
        "        while True:\n",
        "            # Intentamos extraer el primer elemento \n",
        "            try:\n",
        "                elemento = cadena.pop()\n",
        "            # Si llegamos al final de la cadena concluimos el ciclo while.\n",
        "            except:\n",
        "                break\n",
        "            \n",
        "            # Intentamos extraer el final de la pila\n",
        "            try:\n",
        "                final_pila = pila[-1]\n",
        "            # Si no se puede extraer pero no hemos llegado al final de la pila, significa que no pertenece al lenguaje.\n",
        "            except:\n",
        "                return False\n",
        "            # Generemos el paso de estados\n",
        "            try:\n",
        "                tupla=self.delta[(actual, elemento, final_pila)]\n",
        "                actual, operacion = tupla[0], tupla[1]\n",
        "                if operacion =='epsilon':\n",
        "                    self.epsilon(pila)\n",
        "                elif operacion =='X':\n",
        "                    continue\n",
        "                else:\n",
        "                    self.YZ(operacion, pila)\n",
        "            # Si no es posible generar el paso de estados, no pertenece al lenguaje (Suponiendo el automata es correcto)\n",
        "            except:\n",
        "                return False\n",
        "\n",
        "        # Vamos a especificar la cadena por validación por pila vácia.\n",
        "        if self.vacias:\n",
        "            if pila == []:\n",
        "                return True\n",
        "            else:\n",
        "                return False\n",
        "        # Vamos a especificar la cadena por validación de estados finales.\n",
        "        else:\n",
        "            if actual in self.F:\n",
        "                return True\n",
        "            else:\n",
        "                return False"
      ],
      "metadata": {
        "cell_id": "c3ba55cd4f5e4daeb61911634dbdcefc",
        "tags": [],
        "deepnote_to_be_reexecuted": false,
        "source_hash": "e01af6e8",
        "execution_start": 1652563910349,
        "execution_millis": 0,
        "owner_user_id": "7415cea2-22ab-4de9-96e0-f07f3763834a",
        "deepnote_cell_type": "code",
        "deepnote_cell_height": 2115,
        "id": "tNJW94WcghFY"
      },
      "outputs": [],
      "execution_count": null
    },
    {
      "cell_type": "markdown",
      "source": [
        "EJEMPLO: \n",
        "\n",
        "Automata para el lenguaje $$L=\\{0^{n}1^{n}:n\\geq 1\\}$$ con alfabeto $$\\Sigma=\\{0,1\\}$$\n",
        "\n",
        "A continuación se muestra el diagrama del automata que se utilizará."
      ],
      "metadata": {
        "cell_id": "ed8c5575a3104bc88496c512b493c445",
        "tags": [],
        "deepnote_cell_type": "markdown",
        "deepnote_cell_height": 125.515625,
        "id": "MfBZoygkghFc"
      }
    },
    {
      "cell_type": "markdown",
      "source": [
        "![Automata.png](data:image/png;base64,iVBORw0KGgoAAAANSUhEUgAAAjAAAAEsCAMAAADq03kgAAAABGdBTUEAALGPC/xhBQAAACBjSFJNAAB6JgAAgIQAAPoAAACA6AAAdTAAAOpgAAA6mAAAF3CculE8AAAAq1BMVEX////t7e5zdXrZ2duUlppOUlcoLDOjpaiEh4vAwcPNzs/7+/vk5OX19faztLdhZGk7P0b8/Pzi4uK6urqWlpajo6PZ2dnq6uqIiIhdXV3x8fFtbW3Gxsavr6/Q0NB6enr4+PiysrKampqoqKj29vbDw8NpaWlGRkaLi4vb29szMzO3t7dXV1fPz8/l5eXu7u61tbXk5OS9vb1hYWGAgIBycnKmpqbJycnf398zDr8ZAAAAAWJLR0QAiAUdSAAAAAlwSFlzAAAYmwAAGJsBSXWDlAAAAAd0SU1FB+YFDhUNHnG6iMkAAA8gSURBVHja7Z3rYto6FoWxsWV8NwmBUCCkPW3T0iZnZs6cmXn/JxvJdycOWLCDbGt9P4DYhmStbG/dxWQCAAAAAAAAAAAAAAAAAAAAAAAAAAAAAAAAAAAAAAAAAAAAAAAAAAAAAAAAAAAAAAAAAAAAAAAAAAAAAAAAAAAAAAAAAAAAAADQBMM0Vf8JQCVTy2a2NW0/Zxr80ZnVj7kMAaMzHsvw2k46zOePdiNCTOaq/puBOqaMWQYvZhgLWs6aNn8IWVQ/xpih+o8G6pixWDz5NrNazqYHp41YmrJE9d8M1OEzltVeIma/PWukpY/D6sccVq/RhG4Q5i8DV3xSGCD/jJmAsbB48eo/HbEaVY6Ja7Wd0BTnbPFGI+GvEpeftrr8XjBQXJanj/BNJcYzzYSZHGabZhlMYRFhAoslURSzhFeCeLjMePh47XUhMBaiImAmbf/pWNRvjEad16sVXWHWtnIiETo2f/uUpxl7AkZMPWDeNKz9tHhxG5FkMad8zQOmiKUkO8w/bjYBI+ZohgnSGLIadd6E1br4Zow5QZC9283e0WyCg7ERvVuH8YPAYm4QBLYdVC0fXlfxa9c4otKbHc7e/U4HIBgLQREAweuACeqNpLKrtzku4CS8QjyrvbtspYORUqaGqmzK4RmGmTzBuCyqZRizXuQYVY0lL5KmKJLGTtHDa77tP8mGBKJG/0yjt4a3qv3yeBooDgJm7ERZiomyssSLav/vbEhglkzqh+o/eVmfjJcYPHZifrGbJOi3Gzl+zFhs2Sz7R5v1gil6O1TdHBfweRUmcmJR0RU1HitmtouRprHjp937ZcFUC5iWoeq42Qjy7HJoIJ0lYQchar3jx59GQV4XMey4Om6IQPCDWjN6EkVh872GW5wPp5G4PgjCCdCGEFUQIIODAgXIYGCoGQAAAAAAAAAAAJ0wYiz7Bd1xE9Y1YHyMeFR4jmlGGi4/m7Gkc4bxMPW0xDqyGP8tdn1O77BhsRG1BoxhJix2/YlplgMlVrEay3djlpg6zxJzWOKGhtVxWkLI4i6XDQJXTPlpCRixiNNmbDatrdlLiuVW3Ci7mD2kJX6eW2atC4rC1+nEqy1LmkyCo9cOgNaAMVkSTQKbxZUlRiHbT4RdQWJqW6Xx8ilyAXtT1vhWIu4znoOq1YyzKhGJLUISy+CFlCMWnLy9dgC0BUw+B8y3a/OT3UJ2vgRd23ARJVJu2duFbDEPCO6aYdd2EErKGXlp4uZlvZFamF8b2I0M1HvaAqZYMmPVHDHLu4krHmAmJaRcN/KmEuMx5vh+JIrz8oYyKoMtlnhi+4ZE1GrEtkT+pHntEGgLmGJ/Aq+2QqK6LJ2VqnPnTRkw5usFImbmi1v3JyqTTbGuOk6fZ9k13tDW4rcFTLFCK6jmN08rb6azfLGnrrwfMPn6eqMeMGZ50xWJO0orzfmuMOHQbr62gPHyeHCrbOmUsrnCWO8+vDJO7Nd7HRZ1vqSKJL9aRFLsRJQFTnHtwKowR+swtW3/4lK2o/0Of7OqDvOq0ltUauJaPq76H4qEHTYCJh7Ywsd3WkleJrCo1YVV+9rKylxjWPcFJYVlYUvARPmJMgicqj+4uA+zLafyLOQPaaVsGIj9KeIgXRhj1iKH11JMg0dGXKRLryHbDQ030XekYJpnirebY+arrr1aENhVG6gImFn6bGb34HRIdZhqD7+oGTDpdn1cllvU4K1a0y/O3qLxVsVZcvCzaqtR2wOT32N+tu9h4WVjXCBJYyRI0gTOrw2b1/afICoIxPrw2h9uRKbphpMwirIuF6veCT61TMvVuR7Dq3HO1DPFzobNG42niySKeFupbEU2xgX4YZu3Me10TMEQ1/JEbbGBjk2GA6utqyQbrU7jpREw+Qmn2iTIqvft+VlyDrw0Rpzs2sHuQBXp3viRIYhmlpeV0o3MLCbKiOTrRXl1eNYob3zXmnn+xM/WWweO6dSvHRjecCrrvcJAZgYyOMjMQAZkZgAAAAAAAAAAAAAAAAAAAAAAAAD0kvnN7YKEu+VctRbo/XBW92tCblXLgd4P5tOGy76/3VJwxz9qp1oQ9H4o8816c0OWWOd3fXdQN73kPKzXK8rPu1vvVUuC3o/knvgO+bRef1KtCXo/kPX6hvYDN+sH1Zqg9wMhztAiR9+p1gS9Hwi5gdv1QrUm6P1AdDNQN73k6GagbnrJ0c1A3fSSo5uBuuklRzcDddNLjm4G6qaXHN0M1E0vOboZqJtecnQzUDe95OhmoG56ydHNQN30kqObgbrpJUc3A3XTS45uBuqml5JNNfd9Q/ep/TVQN73k7CoDCact9tdA3fSSc1MZSDhtsb8G6qaXnHllIOECvv4aqJteeu4K/yhnpfbYQN30krMsDFwSfmiPDdRNLznzD8jQfTZQN7303NFn6F4bqJtecpb0GbrXBuqml5w5fYbutYG66aUn3SrlnvQje22gbnrJeRAG0q4N7rWBuukl51EY+Ej6kb02UDe99NxTZ+ieG6ibXnIeqDN0zw3UTS85j9QZuucG6qaXnnviDN13A3XTS84t9b6hPTdQN72EzFfL7Xb7+TN/WK7o+rJ6a6BueklZbRevdyhebGkmu/bSQN30kjJf3q3fgWIr9N4ZqJteYla1ma2bYs/82vTo3aX3Xc8M1E0vMasiM+93jXKcl++7fZGrL7OwVwbqppeYVe7R/fKx7fTjMv/ahv0lFvbIQN30EjPPivLN7eP71zzeZtn67vyyvTcG6qaXmofUmv3DCWvmD+ltuTm7A70vBuqml5jsdutmS2b1uTddPwzUTS81n/YynmRu78/70oVeGKibXmpuxD20kajardI3nLU+sA8G6qaXmnTu80Iq5c4X586W7oGBuumlJvVPevn57kwH1Ruom15qlmc6ceb7lBuom15qbs5eiZM6KF2uqzZQN73UpF+ieubKLeHgRrbtoNhA3fRSM99fstJPOLiX7J9Qa6Buesm58JuVd/IrkdUaqJteasTCrYv0LKQXfik1UDe91Mx5gb65aI6Q/CeoNFA3veSIBH3hBKGVbJJWaaBueqmRFt+G7D9BoYG66SVnf2mCFogkvZe4XqGBuumlZkWzU8GD3C2nzkDd9JKzkLtV3mUv1fJQZ6BueqkhuuFkbzllBuqml5wdRYkuEKV6984wZQbqppcasZ8b0Tri27XEvnCqDNRNLzlLur2WHmXGZ1QZqJtecu4I91q6l+jfUGWgbnrJuWTU9jXi7u16rSoDddNLzUomQ/tf9n8cO/8o0W5QZKCM3q/fvj/9+PZ10HrJ2Up0Svx8OhyOX7xfr7edf7ESAyX0/jqkfB+0XnIW3ZuGfxwOv08EzK57X5YiA7vr/Xo4/PrqP/8+/BqyXnJOFelfn3/6k5dfz/zl4ffLrxMBI1GoKzKwu94vmdajkvuvl5r58VLY/y6S8pfMtD/8yamAWXXvmbhVYqCE3pfnP8Whl2OSe6+XnBOKf/BS6Nfvw1Nh2qmAmXevBS6ous+OsNndvBInqXciEs2Xwei9AsujX7XrHw48rUy+HboGjPgK346N1g31zsktvN1uTFIv5+nwMhi9V2B7tNb283DwxXP3gFl0bTY8kO+c3MLbLeok9YrgOdqR0C+9V+C4gbxhmT5/Jw+Y1YWTsLtRbVF3//B4jl5eIH33h6P3CpwyMDPuh0zA/OOfp37pp4cF1YjxcRpbYaYxI6fX35+IF6H3XyeXtF1N7xW4PWHg7/R5LxMw3/9a95X7288yev/8fqzCW+j9999dfrX0SsmecjxgvuUpWqoO89dwA6ap9+XpZLwIvX+fDpjNrn27xQFyPEW/HA6iL+KrVMD857+rE1ztZmtGy+kiqam3Q7ykRfD/eqP3Chw3cPL78PQ8+ZYNIX19eXnhdUD+eGQ4rnOr4Sq8ihY5vT8PTz9fUo5UY/ql9wqcMPD5cDg8HZ7SSmA+Fsc5MrjSLwPzaOncrG7o/VLqPdIR0y+9V+B4Rxa/zfaH3z+yIaTnfcHz+9d378i6Bq+iRU5vKXf/51D0XoFugyEnqy4FEl3l10B6aGDgeq9AN8WdDZQYjIPeYbLuklM7GygzZxF6B0mnCUWdDZSYUAS9w6TTlMVsAlUHJKYsQu8wkZoEfgqZSdHQO1A6FeodGUKRrpteclQt7ILegaJq6Sj0DhRVi9Ohd6go2v4CeoeKog12oHewqNnCC3oHi5pNAqF3uCjZhhR6h4uSjY4bTCNPK71DR8VW6jV8izFTI73DR8WXNVQYNuscMIZJkYrU6h0DCr4OpoIxy2kPmMCNpuIpCIsjEQuKl9PIDfwOH987vaPg+l84VZFMeRy0BQwvqRhLpiFj0+JQzPIX0yQ9aQxQ7yi4/lfaNWgNmIgHhGeyJGJ2cchns/xVzExPnAw7/oZ+6R0BV//SzAatAZMwixc5Lk8kTnFoytzshcGYCBUn6PgLeqZ3DFz7a3kbtAVMwLL6islYWdG1WF4G8WIqGrDeUXDlL/5u0BYw0yyJiJKpzCN2WTjFPO9EZ+cX1XrHQeqEdE1wR+FfW8DwQEmfeaYpGkMhs8rTjqj0DlXvSEgdXEhV5uYLEv+OBcy0igu3Kpx4hjGtC0sldXrHwo2oCW4k+kBX6RsuL8/fqcOkRZJVFUmzMtd4F9dhlOodDZ/26XLkjjfdXPRmrPcE7YVjlV67CpgkLk7O8qb2ma1q1XrHQ+bJplMn5sNGxu2jlAHj1UYhbWYGk9BkSdGWDqr2tZulH+vsnju1esdEZsv+4YQv84d9d6uP4pmmabOEP3qiDV2lGl6JYTPeGLKK3rrauICfsNiaJcy+MGAU6B0d2U233tw+vn/N4+1mTXW7ibjIiJoBkw4NJJY/LZpJZq1V5MXi5OzcwSSFekfIap9v29S+M9vj8j47v/+A+SDJrP5T0OhpCRrpJAwurMD0Qu9IWC3yzZv2u+WqdlfNV8td7u568RH2Tdk1Z1Kp1zseVrvaJpCLnE11bPcx9lUNZz30jon58u69bUSb24CNBN30fgir7eK1eYvtiO813fR+CLwc3263t7f8oVG+jxXd9AIAAAAAAAAAAAAAAAAAAAAAAAAAAAAAAAAAAAAAAAAAAAAAAAAAAAAAAAAAAAAAAAAAAAAAAAAAAAAAAAAAAAAAAAAAAAAAAAAAAAAAANCc/wOX2/qMbehdhgAAACV0RVh0ZGF0ZTpjcmVhdGUAMjAyMi0wNS0xNFQyMToxMzozMCswMDowMNcf2wQAAAAldEVYdGRhdGU6bW9kaWZ5ADIwMjItMDUtMTRUMjE6MTM6MzArMDA6MDCmQmO4AAAAAElFTkSuQmCC)"
      ],
      "metadata": {
        "cell_id": "fcbf26943d8c4165877816420e2fb547",
        "tags": [],
        "deepnote_cell_type": "markdown",
        "deepnote_cell_height": 370,
        "id": "VZS-Eq0lghFc"
      }
    },
    {
      "cell_type": "code",
      "source": [
        "Q_1 = ['q1', 'q2']\n",
        "Sigma_1 = ['0','1']\n",
        "Gamma_1 = ['#', 'alpha'] \n",
        "delta_1 = {('q1', '0', '#'):('q1', 'epsilon/alpha'), ('q1', '0', 'alpha'):('q1', 'alpha/alpha'),\n",
        "            ('q1', '1', 'alpha'):('q2','epsilon'), ('q2', '1', 'alpha'):('q2', 'epsilon')}\n",
        "q0_1 = 'q1'\n",
        "z0_1 = '#'\n",
        "F = [] "
      ],
      "metadata": {
        "cell_id": "aab2f1d18b114a0c938d2ce2e9999929",
        "tags": [],
        "deepnote_to_be_reexecuted": false,
        "source_hash": "3a14fb62",
        "execution_start": 1652563910350,
        "execution_millis": 51,
        "deepnote_cell_type": "code",
        "deepnote_cell_height": 207,
        "id": "hchREJR5ghFf"
      },
      "outputs": [],
      "execution_count": null
    },
    {
      "cell_type": "code",
      "source": [
        "my_automata = Automata(Q_1, Sigma_1, Gamma_1, delta_1, q0_1, z0_1, F)"
      ],
      "metadata": {
        "cell_id": "6204dc45d13c42fb828c98d7027282bb",
        "tags": [],
        "deepnote_to_be_reexecuted": false,
        "source_hash": "320f310b",
        "execution_start": 1652563910402,
        "execution_millis": 0,
        "deepnote_cell_type": "code",
        "deepnote_cell_height": 81,
        "id": "-HoqiTWDghFg"
      },
      "outputs": [],
      "execution_count": null
    },
    {
      "cell_type": "code",
      "source": [
        "#Metamos algo que no pertenece al alfabeto de simbolos\n",
        "my_automata.decide('002')"
      ],
      "metadata": {
        "cell_id": "84427a9385b0478c836ccda1ef662105",
        "tags": [],
        "deepnote_to_be_reexecuted": false,
        "source_hash": "55c0125",
        "execution_start": 1652563910403,
        "execution_millis": 453,
        "deepnote_cell_type": "code",
        "deepnote_cell_height": 447.984375,
        "deepnote_output_heights": [
          270.796875,
          21.1875
        ],
        "id": "DcuKvq3rghFg",
        "outputId": "38da741a-7f37-4170-9f2a-cc4600436325",
        "colab": {
          "base_uri": "https://localhost:8080/",
          "height": 305
        }
      },
      "outputs": [
        {
          "output_type": "error",
          "ename": "AssertionError",
          "evalue": "ignored",
          "traceback": [
            "\u001b[0;31m---------------------------------------------------------------------------\u001b[0m",
            "\u001b[0;31mAssertionError\u001b[0m                            Traceback (most recent call last)",
            "\u001b[0;32m<ipython-input-4-db17410e0631>\u001b[0m in \u001b[0;36m<module>\u001b[0;34m()\u001b[0m\n\u001b[1;32m      1\u001b[0m \u001b[0;31m#Metamos algo que no pertenece al alfabeto de simbolos\u001b[0m\u001b[0;34m\u001b[0m\u001b[0;34m\u001b[0m\u001b[0;34m\u001b[0m\u001b[0m\n\u001b[0;32m----> 2\u001b[0;31m \u001b[0mmy_automata\u001b[0m\u001b[0;34m.\u001b[0m\u001b[0mdecide\u001b[0m\u001b[0;34m(\u001b[0m\u001b[0;34m'002'\u001b[0m\u001b[0;34m)\u001b[0m\u001b[0;34m\u001b[0m\u001b[0;34m\u001b[0m\u001b[0m\n\u001b[0m",
            "\u001b[0;32m<ipython-input-1-c8e654d90144>\u001b[0m in \u001b[0;36mdecide\u001b[0;34m(self, cadena)\u001b[0m\n\u001b[1;32m     63\u001b[0m         '''\n\u001b[1;32m     64\u001b[0m         \u001b[0;31m# Verificación de que la cadena pertenezca a nuestro lenguaje.\u001b[0m\u001b[0;34m\u001b[0m\u001b[0;34m\u001b[0m\u001b[0;34m\u001b[0m\u001b[0m\n\u001b[0;32m---> 65\u001b[0;31m         \u001b[0;32massert\u001b[0m \u001b[0mall\u001b[0m\u001b[0;34m(\u001b[0m\u001b[0mx\u001b[0m \u001b[0;32min\u001b[0m \u001b[0mself\u001b[0m\u001b[0;34m.\u001b[0m\u001b[0mSigma\u001b[0m \u001b[0;32mfor\u001b[0m \u001b[0mx\u001b[0m \u001b[0;32min\u001b[0m \u001b[0mlist\u001b[0m\u001b[0;34m(\u001b[0m\u001b[0mcadena\u001b[0m\u001b[0;34m)\u001b[0m\u001b[0;34m)\u001b[0m\u001b[0;34m,\u001b[0m \u001b[0;34m'La cadena tiene caracteres que no pertenecen al vocabulario'\u001b[0m\u001b[0;34m\u001b[0m\u001b[0;34m\u001b[0m\u001b[0m\n\u001b[0m\u001b[1;32m     66\u001b[0m \u001b[0;34m\u001b[0m\u001b[0m\n\u001b[1;32m     67\u001b[0m         \u001b[0;31m# Iniciamos la pila con el estado inicial de la pila z0\u001b[0m\u001b[0;34m\u001b[0m\u001b[0;34m\u001b[0m\u001b[0;34m\u001b[0m\u001b[0m\n",
            "\u001b[0;31mAssertionError\u001b[0m: La cadena tiene caracteres que no pertenecen al vocabulario"
          ]
        }
      ],
      "execution_count": null
    },
    {
      "cell_type": "code",
      "source": [
        "#Una cadena larga que si tiene n cantidad de ceros seguida de n cantidad de 1\n",
        "my_automata.decide('000000000000111111111111')"
      ],
      "metadata": {
        "cell_id": "3ca3530a71584240b93cd1456620407a",
        "tags": [],
        "deepnote_to_be_reexecuted": false,
        "source_hash": "676e9352",
        "execution_start": 1652563921325,
        "execution_millis": 103,
        "deepnote_cell_type": "code",
        "deepnote_cell_height": 136.1875,
        "deepnote_output_heights": [
          21.1875,
          21.1875
        ],
        "id": "hMQPD3MPghFi",
        "outputId": "11104979-f22d-4b55-d991-e828ff228fb9",
        "colab": {
          "base_uri": "https://localhost:8080/"
        }
      },
      "outputs": [
        {
          "output_type": "execute_result",
          "data": {
            "text/plain": [
              "True"
            ]
          },
          "metadata": {},
          "execution_count": 5
        }
      ],
      "execution_count": null
    },
    {
      "cell_type": "code",
      "source": [
        "#Caso base con n=1.\n",
        "my_automata.decide('01')"
      ],
      "metadata": {
        "cell_id": "55b582e6859a4c779514d1f3e4546367",
        "tags": [],
        "deepnote_to_be_reexecuted": false,
        "source_hash": "892a9fcd",
        "execution_start": 1652563938202,
        "execution_millis": 10,
        "deepnote_cell_type": "code",
        "deepnote_cell_height": 136.1875,
        "deepnote_output_heights": [
          21.1875
        ],
        "id": "qJJn8ArxghFj",
        "outputId": "fbb488ea-58da-4722-86ad-1cfd69a9bc36",
        "colab": {
          "base_uri": "https://localhost:8080/"
        }
      },
      "outputs": [
        {
          "output_type": "execute_result",
          "data": {
            "text/plain": [
              "True"
            ]
          },
          "metadata": {},
          "execution_count": 6
        }
      ],
      "execution_count": null
    },
    {
      "cell_type": "code",
      "source": [
        "#Una cadena de un solo número\n",
        "my_automata.decide('0')"
      ],
      "metadata": {
        "cell_id": "231fe06c63d446e5be66e8c59601962e",
        "tags": [],
        "deepnote_to_be_reexecuted": false,
        "source_hash": "22c70f64",
        "execution_start": 1652563945947,
        "execution_millis": 0,
        "deepnote_cell_type": "code",
        "deepnote_cell_height": 136.1875,
        "deepnote_output_heights": [
          21.1875
        ],
        "id": "_e0brHvaghFj",
        "outputId": "70650042-9fc5-4d8f-a5d6-eb851ceb2261",
        "colab": {
          "base_uri": "https://localhost:8080/"
        }
      },
      "outputs": [
        {
          "output_type": "execute_result",
          "data": {
            "text/plain": [
              "False"
            ]
          },
          "metadata": {},
          "execution_count": 7
        }
      ],
      "execution_count": null
    },
    {
      "cell_type": "code",
      "source": [
        "#Una cadena que empiece con 1 y no con 0\n",
        "my_automata.decide('101')"
      ],
      "metadata": {
        "cell_id": "eefb2a3c93c1449190f874a4b19ffda0",
        "tags": [],
        "deepnote_to_be_reexecuted": false,
        "source_hash": "4be8d7ea",
        "execution_start": 1652563950265,
        "execution_millis": 167,
        "deepnote_cell_type": "code",
        "deepnote_cell_height": 136.1875,
        "deepnote_output_heights": [
          21.1875
        ],
        "id": "HxfCS7dkghFk",
        "outputId": "53ea4d95-3962-4774-e85c-bd5b190a8b96",
        "colab": {
          "base_uri": "https://localhost:8080/"
        }
      },
      "outputs": [
        {
          "output_type": "execute_result",
          "data": {
            "text/plain": [
              "False"
            ]
          },
          "metadata": {},
          "execution_count": 8
        }
      ],
      "execution_count": null
    },
    {
      "cell_type": "code",
      "source": [
        "#Una cadena con 2 ceros seguidos de 3 unos\n",
        "my_automata.decide('00111')"
      ],
      "metadata": {
        "cell_id": "f3e993f8b8244e40b47554ad15e76858",
        "tags": [],
        "deepnote_to_be_reexecuted": false,
        "source_hash": "7eba0f9c",
        "execution_start": 1652563954511,
        "execution_millis": 5,
        "deepnote_cell_type": "code",
        "deepnote_cell_height": 136.1875,
        "deepnote_output_heights": [
          21.1875
        ],
        "id": "nCwNEA5cghFl",
        "outputId": "69312b6d-3671-46a5-e44b-460466401192",
        "colab": {
          "base_uri": "https://localhost:8080/"
        }
      },
      "outputs": [
        {
          "output_type": "execute_result",
          "data": {
            "text/plain": [
              "False"
            ]
          },
          "metadata": {},
          "execution_count": 9
        }
      ],
      "execution_count": null
    },
    {
      "cell_type": "code",
      "source": [
        "#Una cadena con 3 ceros seguidos de 2 unos\n",
        "my_automata.decide('00011')"
      ],
      "metadata": {
        "cell_id": "03beff102baf492fbe0a1b63395e0f3c",
        "tags": [],
        "deepnote_to_be_reexecuted": false,
        "source_hash": "e34bff4",
        "execution_start": 1652563956603,
        "execution_millis": 3,
        "deepnote_cell_type": "code",
        "deepnote_cell_height": 136.1875,
        "deepnote_output_heights": [
          21.1875
        ],
        "id": "QjQRP5uEghFl",
        "outputId": "7e9f40fe-f257-401a-819a-d0b05e82a81f",
        "colab": {
          "base_uri": "https://localhost:8080/"
        }
      },
      "outputs": [
        {
          "output_type": "execute_result",
          "data": {
            "text/plain": [
              "False"
            ]
          },
          "metadata": {},
          "execution_count": 10
        }
      ],
      "execution_count": null
    },
    {
      "cell_type": "code",
      "source": [
        "#Con una cadena vacía\n",
        "my_automata.decide('')"
      ],
      "metadata": {
        "cell_id": "f718f941cfc044adbffcf2b9f9c7a82a",
        "tags": [],
        "deepnote_to_be_reexecuted": false,
        "source_hash": "2ac497ce",
        "execution_start": 1652563961799,
        "execution_millis": 4,
        "deepnote_cell_type": "code",
        "deepnote_cell_height": 136.1875,
        "deepnote_output_heights": [
          21.1875
        ],
        "id": "c0anipRpghFl",
        "outputId": "3befdd4f-7f13-4f07-badc-cb25991c4b05",
        "colab": {
          "base_uri": "https://localhost:8080/"
        }
      },
      "outputs": [
        {
          "output_type": "execute_result",
          "data": {
            "text/plain": [
              "False"
            ]
          },
          "metadata": {},
          "execution_count": 11
        }
      ],
      "execution_count": null
    },
    {
      "cell_type": "code",
      "source": [
        ""
      ],
      "metadata": {
        "id": "wIRzJ3t8gv8d"
      },
      "execution_count": null,
      "outputs": []
    }
  ],
  "nbformat": 4,
  "nbformat_minor": 0,
  "metadata": {
    "orig_nbformat": 2,
    "deepnote": {},
    "deepnote_notebook_id": "29f881e7-83af-40b5-bc8c-fa36e48804d7",
    "deepnote_execution_queue": [],
    "colab": {
      "name": "Automata.ipynb",
      "provenance": [],
      "include_colab_link": true
    },
    "language_info": {
      "name": "python"
    },
    "kernelspec": {
      "name": "python3",
      "display_name": "Python 3"
    }
  }
}