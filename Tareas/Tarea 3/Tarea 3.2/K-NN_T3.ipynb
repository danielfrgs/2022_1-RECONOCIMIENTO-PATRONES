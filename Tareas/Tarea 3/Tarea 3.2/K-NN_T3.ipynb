{
 "cells": [
  {
   "cell_type": "markdown",
   "metadata": {},
   "source": [
    "# Tarea 3: K Vecinos\n",
    "\n",
    "Fragoso Alvarado Daniel | 316049054\n"
   ]
  },
  {
   "cell_type": "code",
   "execution_count": 1,
   "metadata": {},
   "outputs": [],
   "source": [
    "\n",
    "import numpy as np\n",
    "from collections import Counter\n",
    "from scipy.spatial import distance\n"
   ]
  },
  {
   "cell_type": "code",
   "execution_count": 47,
   "metadata": {},
   "outputs": [],
   "source": [
    "def Kvecinos(X, y, k, Patrones):\n",
    "    '''\n",
    "    Kvecinos:\n",
    "      Función que clasifica puntos de un conjunto de datos a partir de KNN con la \n",
    "      distancia euclidea\n",
    "\n",
    "    Parámetros\n",
    "    ----------\n",
    "    X:  Lista\n",
    "      Conjunto de patreones clasificados\n",
    "    y:  Lista \n",
    "      Conjunto de etiquetas de clase\n",
    "    k:  Número entero \n",
    "      Número de Vecinos\n",
    "    Patrones: Lista\n",
    "      Conjunto de patrones que vamos a clasificar\n",
    "    '''\n",
    "    # Generamos lista vacia para establcer las clasificaciones\n",
    "    predict = []\n",
    "\n",
    "    # Tratamos de clasificar\n",
    "    for patron in Patrones:\n",
    "        # Lista para almacena distancias\n",
    "        distances = []\n",
    "        for x in X:\n",
    "            distances.append(distance.euclidean(x, patron))\n",
    "        # Selección del número de indices que nos interesan\n",
    "        k_indice = np.argsort(distances)[:k] # Esto nos da el índice de las primeras k distancias. \n",
    "        # Obtenemos de y_train la etiqueta\n",
    "        k_label = [y[i] for i in k_indice]\n",
    "        # Ahora para clasificarlo vamos a buscar la etiqueta que más se repite\n",
    "        # por medio de la función counter. y el atributo moss_common que da una lista \n",
    "        # de tuplas que en primer lugar tienen el elemnto de mayor repetición entonces \n",
    "        predict.append(Counter(k_label).most_common(1)[0][0])\n",
    "    return predict"
   ]
  },
  {
   "cell_type": "code",
   "execution_count": 61,
   "metadata": {},
   "outputs": [],
   "source": [
    "c = [[0,3], [0,2], [0,1], [0,0],[-1,0],[-2,0], [1,3], [1,1], [1,0], [0,-1]]\n",
    "c2 = [1, 1, 1, 1, 1, 1, 2, 2, 2, 2]\n",
    "\n",
    "patron = [[1, 4]]"
   ]
  },
  {
   "cell_type": "code",
   "execution_count": 62,
   "metadata": {},
   "outputs": [
    {
     "data": {
      "text/plain": [
       "<matplotlib.collections.PathCollection at 0x109c88430>"
      ]
     },
     "execution_count": 62,
     "metadata": {},
     "output_type": "execute_result"
    },
    {
     "data": {
      "image/png": "[encoded data removed]",
      "text/plain": [
       "<Figure size 432x288 with 1 Axes>"
      ]
     },
     "metadata": {
      "needs_background": "light"
     },
     "output_type": "display_data"
    }
   ],
   "source": [
    "# Gráfica\n",
    "\n",
    "import matplotlib.pyplot as plt\n",
    "c_g = np.array(c)\n",
    "\n",
    "plt.scatter(c_g[:, 0], c_g[:, 1], c = c2)\n",
    "plt.scatter(1, 4)"
   ]
  },
  {
   "cell_type": "markdown",
   "metadata": {},
   "source": [
    "### k = 1"
   ]
  },
  {
   "cell_type": "code",
   "execution_count": 64,
   "metadata": {},
   "outputs": [
    {
     "data": {
      "text/plain": [
       "<matplotlib.collections.PathCollection at 0x109ce6c70>"
      ]
     },
     "execution_count": 64,
     "metadata": {},
     "output_type": "execute_result"
    },
    {
     "data": {
      "image/png": "[encoded data removed]",
      "text/plain": [
       "<Figure size 432x288 with 1 Axes>"
      ]
     },
     "metadata": {
      "needs_background": "light"
     },
     "output_type": "display_data"
    }
   ],
   "source": [
    "k = Kvecinos(c, c2, 1, patron)\n",
    "c_g = np.array(c + patron)\n",
    "c2_g = c2 + k\n",
    "\n",
    "plt.scatter(c_g[:, 0], c_g[:, 1], c = c2_g)"
   ]
  },
  {
   "cell_type": "markdown",
   "metadata": {},
   "source": [
    "### K = 3"
   ]
  },
  {
   "cell_type": "code",
   "execution_count": 65,
   "metadata": {},
   "outputs": [
    {
     "data": {
      "text/plain": [
       "<matplotlib.collections.PathCollection at 0x109d093d0>"
      ]
     },
     "execution_count": 65,
     "metadata": {},
     "output_type": "execute_result"
    },
    {
     "data": {
      "image/png": "[encoded data removed]",
      "text/plain": [
       "<Figure size 432x288 with 1 Axes>"
      ]
     },
     "metadata": {
      "needs_background": "light"
     },
     "output_type": "display_data"
    }
   ],
   "source": [
    "k = Kvecinos(c, c2, 3, patron)\n",
    "c_g = np.array(c + patron)\n",
    "c2_g = c2 + k\n",
    "\n",
    "plt.scatter(c_g[:, 0], c_g[:, 1], c = c2_g)"
   ]
  },
  {
   "cell_type": "markdown",
   "metadata": {},
   "source": [
    "### k = 5"
   ]
  },
  {
   "cell_type": "code",
   "execution_count": 66,
   "metadata": {},
   "outputs": [
    {
     "data": {
      "text/plain": [
       "<matplotlib.collections.PathCollection at 0x109db6b50>"
      ]
     },
     "execution_count": 66,
     "metadata": {},
     "output_type": "execute_result"
    },
    {
     "data": {
      "image/png": "[encoded data removed]",
      "text/plain": [
       "<Figure size 432x288 with 1 Axes>"
      ]
     },
     "metadata": {
      "needs_background": "light"
     },
     "output_type": "display_data"
    }
   ],
   "source": [
    "k = Kvecinos(c, c2, 5, patron)\n",
    "c_g = np.array(c + patron)\n",
    "c2_g = c2 + k\n",
    "\n",
    "plt.scatter(c_g[:, 0], c_g[:, 1], c = c2_g)"
   ]
  }
 ],
 "metadata": {
  "interpreter": {
   "hash": "aee8b7b246df8f9039afb4144a1f6fd8d2ca17a180786b69acc140d282b71a49"
  },
  "kernelspec": {
   "display_name": "Python 3.9.10 64-bit",
   "language": "python",
   "name": "python3"
  },
  "language_info": {
   "codemirror_mode": {
    "name": "ipython",
    "version": 3
   },
   "file_extension": ".py",
   "mimetype": "text/x-python",
   "name": "python",
   "nbconvert_exporter": "python",
   "pygments_lexer": "ipython3",
   "version": "3.9.10"
  },
  "orig_nbformat": 4
 },
 "nbformat": 4,
 "nbformat_minor": 2
}
