{
 "cells": [
  {
   "cell_type": "code",
   "execution_count": 1,
   "metadata": {
    "cell_id": "ed0440f5ed63478ba80e675688a70b7d",
    "deepnote_cell_height": 171,
    "deepnote_cell_type": "code",
    "deepnote_to_be_reexecuted": false,
    "execution_millis": 2197,
    "execution_start": 1651292807589,
    "source_hash": "49dfc612",
    "tags": []
   },
   "outputs": [],
   "source": [
    "import numpy as np\n",
    "import matplotlib.pyplot as plt\n",
    "import pandas as pd\n",
    "import sklearn \n",
    "from sklearn.model_selection import train_test_split\n",
    "from sklearn import metrics\n",
    "import random\n",
    "from math import dist\n",
    "from collections import Counter\n",
    "import copy\n",
    "from copy import deepcopy"
   ]
  },
  {
   "cell_type": "markdown",
   "metadata": {},
   "source": [
    "## 1. Implementar en Python el clasificador de Bayes para patrones normales"
   ]
  },
  {
   "cell_type": "code",
   "execution_count": 2,
   "metadata": {},
   "outputs": [],
   "source": [
    "#La función decisión nos calcula la función de decisión para alguna mu, sigma y p(c)"
   ]
  },
  {
   "cell_type": "code",
   "execution_count": 3,
   "metadata": {
    "cell_id": "d31b18bd-a482-469c-91d2-a9ea0a469861",
    "deepnote_cell_height": 81,
    "deepnote_cell_type": "code",
    "deepnote_to_be_reexecuted": false,
    "execution_millis": 42369,
    "execution_start": 1651292807541,
    "source_hash": "7c016d67",
    "tags": []
   },
   "outputs": [],
   "source": [
    "def decision(x,m,s,pc):\n",
    "    return -1/2*np.log(np.linalg.det(s))-1/2*np.transpose(x-m).to_numpy()@np.linalg.inv(s)@(x-m).to_numpy()+np.log(pc)"
   ]
  },
  {
   "cell_type": "code",
   "execution_count": 4,
   "metadata": {},
   "outputs": [],
   "source": [
    "#Funcion que recibe un punto y lo clasifica\n",
    "def clasificador(x,mu,sigma,p):\n",
    "    valor=[0]*len(mu)\n",
    "    for i in range(len(mu)):\n",
    "        valor[i]=decision(x,mu[i],sigma[i],p[i])\n",
    "        d=max(valor)\n",
    "        indic=valor.index(d)\n",
    "    return(indic)"
   ]
  },
  {
   "cell_type": "code",
   "execution_count": null,
   "metadata": {},
   "outputs": [],
   "source": []
  },
  {
   "cell_type": "markdown",
   "metadata": {
    "cell_id": "5f4ddd28fad64f9d9bfe0d61888aebc6",
    "deepnote_cell_height": 81,
    "deepnote_cell_type": "code",
    "deepnote_to_be_reexecuted": false,
    "execution_millis": 42335,
    "execution_start": 1651292807588,
    "source_hash": "b623e53d",
    "tags": []
   },
   "source": [
    "## 2.Descargar el conjunto de datos del iris https://archive.ics.uci.edu/ml/datasets/iris"
   ]
  },
  {
   "cell_type": "code",
   "execution_count": 5,
   "metadata": {},
   "outputs": [
    {
     "data": {
      "text/html": [
       "<div>\n",
       "<style scoped>\n",
       "    .dataframe tbody tr th:only-of-type {\n",
       "        vertical-align: middle;\n",
       "    }\n",
       "\n",
       "    .dataframe tbody tr th {\n",
       "        vertical-align: top;\n",
       "    }\n",
       "\n",
       "    .dataframe thead th {\n",
       "        text-align: right;\n",
       "    }\n",
       "</style>\n",
       "<table border=\"1\" class=\"dataframe\">\n",
       "  <thead>\n",
       "    <tr style=\"text-align: right;\">\n",
       "      <th></th>\n",
       "      <th>Sepal.Length</th>\n",
       "      <th>Sepal.Width</th>\n",
       "      <th>Petal.Length</th>\n",
       "      <th>Petal.Width</th>\n",
       "      <th>Species</th>\n",
       "    </tr>\n",
       "  </thead>\n",
       "  <tbody>\n",
       "    <tr>\n",
       "      <th>0</th>\n",
       "      <td>5.1</td>\n",
       "      <td>3.5</td>\n",
       "      <td>1.4</td>\n",
       "      <td>0.2</td>\n",
       "      <td>setosa</td>\n",
       "    </tr>\n",
       "    <tr>\n",
       "      <th>1</th>\n",
       "      <td>4.9</td>\n",
       "      <td>3.0</td>\n",
       "      <td>1.4</td>\n",
       "      <td>0.2</td>\n",
       "      <td>setosa</td>\n",
       "    </tr>\n",
       "    <tr>\n",
       "      <th>2</th>\n",
       "      <td>4.7</td>\n",
       "      <td>3.2</td>\n",
       "      <td>1.3</td>\n",
       "      <td>0.2</td>\n",
       "      <td>setosa</td>\n",
       "    </tr>\n",
       "    <tr>\n",
       "      <th>3</th>\n",
       "      <td>4.6</td>\n",
       "      <td>3.1</td>\n",
       "      <td>1.5</td>\n",
       "      <td>0.2</td>\n",
       "      <td>setosa</td>\n",
       "    </tr>\n",
       "    <tr>\n",
       "      <th>4</th>\n",
       "      <td>5.0</td>\n",
       "      <td>3.6</td>\n",
       "      <td>1.4</td>\n",
       "      <td>0.2</td>\n",
       "      <td>setosa</td>\n",
       "    </tr>\n",
       "  </tbody>\n",
       "</table>\n",
       "</div>"
      ],
      "text/plain": [
       "   Sepal.Length  Sepal.Width  Petal.Length  Petal.Width Species\n",
       "0           5.1          3.5           1.4          0.2  setosa\n",
       "1           4.9          3.0           1.4          0.2  setosa\n",
       "2           4.7          3.2           1.3          0.2  setosa\n",
       "3           4.6          3.1           1.5          0.2  setosa\n",
       "4           5.0          3.6           1.4          0.2  setosa"
      ]
     },
     "execution_count": 5,
     "metadata": {},
     "output_type": "execute_result"
    }
   ],
   "source": [
    "data=pd.read_csv('iris.csv')\n",
    "data.head()"
   ]
  },
  {
   "cell_type": "code",
   "execution_count": 6,
   "metadata": {
    "cell_id": "6438dd053d474329a74ab023288513b3",
    "deepnote_cell_height": 154.1875,
    "deepnote_cell_type": "code",
    "deepnote_output_heights": [
     21.1875
    ],
    "deepnote_to_be_reexecuted": false,
    "execution_millis": 294,
    "execution_start": 1651292809920,
    "source_hash": "f528615f",
    "tags": []
   },
   "outputs": [
    {
     "data": {
      "text/plain": [
       "array(['setosa', 'versicolor', 'virginica'], dtype=object)"
      ]
     },
     "execution_count": 6,
     "metadata": {},
     "output_type": "execute_result"
    }
   ],
   "source": [
    "#Separamos nuestro conjunto en train y test\n",
    "train , test=sklearn.model_selection.train_test_split(data,test_size=0.3,train_size=0.7,random_state=6)\n",
    "train['Species'].unique()\n"
   ]
  },
  {
   "cell_type": "code",
   "execution_count": 7,
   "metadata": {},
   "outputs": [],
   "source": [
    "#Reseteamos el indice del test\n",
    "test=test.reset_index()"
   ]
  },
  {
   "cell_type": "code",
   "execution_count": 8,
   "metadata": {
    "cell_id": "1a5cee6350b341deb5cfd636b5312d5c",
    "deepnote_cell_height": 117,
    "deepnote_cell_type": "code",
    "deepnote_to_be_reexecuted": false,
    "execution_millis": 1,
    "execution_start": 1651292809921,
    "source_hash": "44583240",
    "tags": []
   },
   "outputs": [],
   "source": [
    "#Separamos nuestro train en las 3 clases (setosa, versicolor y virginica)\n",
    "train_setosa=train[train['Species']=='setosa']\n",
    "train_versicolor=train[train['Species']=='versicolor']\n",
    "train_virginica=train[train['Species']=='virginica']\n",
    "\n",
    "train_setosa=train_setosa.reset_index()\n",
    "train_versicolor=train_versicolor.reset_index()\n",
    "train_virginica=train_virginica.reset_index()\n",
    "train_setosa=train_setosa.iloc[:,1:]\n",
    "train_versicolor=train_versicolor.iloc[:,1:]\n",
    "train_virginica=train_virginica.iloc[:,1:]"
   ]
  },
  {
   "cell_type": "markdown",
   "metadata": {},
   "source": [
    "### Hacemos un plot con base a dos de las características para ver como se ven nuestras clases c:"
   ]
  },
  {
   "cell_type": "code",
   "execution_count": 9,
   "metadata": {},
   "outputs": [
    {
     "data": {
      "text/plain": [
       "<matplotlib.collections.PathCollection at 0x21966c90e20>"
      ]
     },
     "execution_count": 9,
     "metadata": {},
     "output_type": "execute_result"
    },
    {
     "data": {
      "image/png": "[encoded data removed]",
      "text/plain": [
       "<Figure size 432x288 with 1 Axes>"
      ]
     },
     "metadata": {
      "needs_background": "light"
     },
     "output_type": "display_data"
    }
   ],
   "source": [
    "plt.scatter(train_setosa['Sepal.Length'],train_setosa['Petal.Length'])\n",
    "plt.scatter(train_versicolor['Sepal.Length'],train_versicolor['Petal.Length'],color='red')\n",
    "plt.scatter(train_virginica['Sepal.Length'],train_virginica['Petal.Length'],color='green')\n"
   ]
  },
  {
   "cell_type": "code",
   "execution_count": null,
   "metadata": {},
   "outputs": [],
   "source": []
  },
  {
   "cell_type": "markdown",
   "metadata": {
    "cell_id": "8c13d58ca12a42dd98f2b7c9d9b48815",
    "deepnote_cell_height": 1184.8125,
    "deepnote_cell_type": "code",
    "deepnote_output_heights": [
     null,
     611
    ],
    "deepnote_to_be_reexecuted": false,
    "execution_millis": 42,
    "execution_start": 1651292810469,
    "source_hash": "4be2b078",
    "tags": []
   },
   "source": [
    "## 3.Aplicar el algoritmo al conjunto de datos del iris con los valores default del algoritmo"
   ]
  },
  {
   "cell_type": "code",
   "execution_count": 10,
   "metadata": {},
   "outputs": [],
   "source": [
    "#Calculamos el vector de mu para cada una de las clases del train\n",
    "mu1=train_setosa.mean()\n",
    "mu2=train_versicolor.mean()\n",
    "mu3=train_virginica.mean()\n",
    "\n",
    "#Definimos la lista con las mu\n",
    "\n",
    "mu=[mu1,mu2,mu3]\n"
   ]
  },
  {
   "cell_type": "code",
   "execution_count": 11,
   "metadata": {
    "cell_id": "a994847931034be890df525ab381dae1",
    "deepnote_cell_height": 135,
    "deepnote_cell_type": "code",
    "deepnote_output_heights": [
     78.75
    ],
    "deepnote_to_be_reexecuted": false,
    "execution_millis": 0,
    "execution_start": 1651292810404,
    "source_hash": "6fcd2e47",
    "tags": []
   },
   "outputs": [],
   "source": [
    "#Calculamos la matriz de covarianzas de cada una de nuestras clases\n",
    "sigma1=train_setosa.cov().to_numpy()\n",
    "sigma2=train_versicolor.cov().to_numpy()\n",
    "sigma3=train_virginica.cov().to_numpy()\n",
    "\n",
    "#Definimos la lista con las sigmas\n",
    "\n",
    "sigma=[sigma1,sigma2,sigma3]\n"
   ]
  },
  {
   "cell_type": "code",
   "execution_count": 12,
   "metadata": {},
   "outputs": [],
   "source": [
    "#Definimos las p(Ci) para i={1,2,3}. Esta proba la calculé con proba clásica\n",
    "p1=len(train_setosa)/len(train)\n",
    "p2=len(train_versicolor)/len(train)\n",
    "p3=len(train_virginica)/len(train)\n",
    "\n",
    "#Definimos la lista con las pi\n",
    "p=[p1,p2,p3]"
   ]
  },
  {
   "cell_type": "code",
   "execution_count": 13,
   "metadata": {},
   "outputs": [],
   "source": [
    "#Separamos el test en dos conjuntos, el xtest son los datos y el ytest la clasificación real.\n",
    "test\n",
    "ytest=test.iloc[:,-1]\n",
    "#ytest\n",
    "xtest=test.iloc[:,-5:-1]\n"
   ]
  },
  {
   "cell_type": "markdown",
   "metadata": {},
   "source": [
    "### Aplicando el clasificador"
   ]
  },
  {
   "cell_type": "code",
   "execution_count": 14,
   "metadata": {},
   "outputs": [
    {
     "data": {
      "text/plain": [
       "array([0, 2, 0, 0, 2, 1, 2, 0, 2, 1, 2, 1, 2, 2, 1, 2, 2, 1, 1, 0, 0, 2,\n",
       "       0, 0, 1, 1, 1, 2, 0, 1, 0, 1, 0, 0, 1, 2, 1, 2, 1, 0, 0, 2, 1, 1,\n",
       "       0])"
      ]
     },
     "execution_count": 14,
     "metadata": {},
     "output_type": "execute_result"
    }
   ],
   "source": [
    "#Para cada elemento en xtest encontramos la clase a la que pertence\n",
    "clasesbayes=[]\n",
    "for i in range(len(xtest)):\n",
    "    x=xtest.iloc[i,0:5].to_numpy()\n",
    "    clasesbayes.append(clasificador(x,mu,sigma,p))\n",
    "clasesbayes=np.array(clasesbayes)\n",
    "clasesbayes"
   ]
  },
  {
   "cell_type": "code",
   "execution_count": null,
   "metadata": {},
   "outputs": [],
   "source": []
  },
  {
   "cell_type": "markdown",
   "metadata": {
    "cell_id": "7e7a27d06d6e491eaf82b9f210c0e5c1",
    "deepnote_cell_height": 81,
    "deepnote_cell_type": "code",
    "deepnote_to_be_reexecuted": false,
    "execution_millis": 42329,
    "execution_start": 1651292807541,
    "source_hash": "a7384a49",
    "tags": []
   },
   "source": [
    "## 4.Comparar con el algoritmo de vecino más cercano"
   ]
  },
  {
   "cell_type": "code",
   "execution_count": 15,
   "metadata": {},
   "outputs": [],
   "source": [
    "##Utilizando el KNN de la tarea pasada. Observacion se adpató para el conjunto iris.\n",
    "\n",
    "\n",
    "def KNN(k,c, punto):\n",
    "    #Ocupamos cp para guardar la clasificación del punto\n",
    "    cp=0\n",
    "    p=0\n",
    "    #Ocupamos un vector de distancias\n",
    "    d=[]\n",
    "    #Copiamos nuestra lista de clasificados\n",
    "    items=c\n",
    "    items=deepcopy(c)\n",
    "    #Ocupamos m para guardar la distancia mínima\n",
    "    m=0\n",
    "    #Ocupamos indice para poder extraer el vecino más cercano en la iteración k\n",
    "    indice=0\n",
    "    #Ocupamos vecinos para guardar los k vecinos y la clase a la que pertenecen\n",
    "    vecinos=[]\n",
    "\n",
    "    #Utilizamos un for para calcular la distancia del punto a cada una de las clasificaciones\n",
    "    for i in range(len(items)):\n",
    "        d.append(dist(items[i][0],punto))\n",
    "    \n",
    "    #Creamos una lista para poder contar cuantas observaciones e cada clase tenemos\n",
    "    clases=[]\n",
    "    #Recorremos el arreglo de distancias tantas veces como k\n",
    "    #print(d)\n",
    "    for j in range(k):\n",
    "        m=min(d)\n",
    "        indice=d.index(m)\n",
    "        vecinos.append(items[indice])\n",
    "        clases.append(items[indice][1])\n",
    "        d.pop(indice)\n",
    "        items.pop(indice)\n",
    "    \n",
    "    #print(f\"Los {k} vecinos más cercanos son\",vecinos)\n",
    "    count=Counter(clases)\n",
    "    p=max(count.values())\n",
    "    cp=([l for l,v in count.items() if v == p])\n",
    "    if len(cp)>1:\n",
    "        #print(\"No se pudo clasificar\")\n",
    "        cp=random.randint(0, 2)\n",
    "    return(cp)\n",
    "  \n"
   ]
  },
  {
   "cell_type": "code",
   "execution_count": null,
   "metadata": {},
   "outputs": [],
   "source": []
  },
  {
   "cell_type": "code",
   "execution_count": 16,
   "metadata": {},
   "outputs": [],
   "source": [
    "#Cambiamos los targets de el conjunto de entrenamiento por 0, 1 y 2\n",
    "train_setosa['Species']=0\n",
    "train_versicolor['Species']=1\n",
    "train_virginica['Species']=2\n"
   ]
  },
  {
   "cell_type": "code",
   "execution_count": 17,
   "metadata": {},
   "outputs": [],
   "source": [
    "##Obtenemos los puntos de cada clase en el formato que los requiere el knn\n",
    "antes=[]\n",
    "for i in range(len(train_setosa)):\n",
    "    antes.append([(train_setosa.iloc[i,0],train_setosa.iloc[i,1],train_setosa.iloc[i,2],train_setosa.iloc[i,3]),train_setosa.iloc[i,4]])\n",
    "    \n",
    "for j in range(len(train_versicolor)):\n",
    "    antes.append([(train_versicolor.iloc[j,0],train_versicolor.iloc[j,1],train_versicolor.iloc[j,2],train_versicolor.iloc[j,3]),train_versicolor.iloc[j,4]])    \n",
    "\n",
    "for k in range(len(train_virginica)):\n",
    "    antes.append([(train_virginica.iloc[k,0],train_virginica.iloc[k,1],train_virginica.iloc[k,2],train_virginica.iloc[k,3]),train_virginica.iloc[k,4]])\n",
    "    \n"
   ]
  },
  {
   "cell_type": "code",
   "execution_count": 18,
   "metadata": {},
   "outputs": [],
   "source": [
    "##Pasamos cada uno de los puntos del test al formato requerido para aplicar el knn\n",
    "puntos=[]\n",
    "for i in range(len(xtest)):\n",
    "    puntos.append((xtest.iloc[i,0],xtest.iloc[i,1],xtest.iloc[i,2],xtest.iloc[i,3]))\n"
   ]
  },
  {
   "cell_type": "code",
   "execution_count": 19,
   "metadata": {},
   "outputs": [],
   "source": [
    "#### Clasificamos cada uno de nuestros puntos del xtest\n",
    "clasknn=[]\n",
    "k=3\n",
    "\n",
    "for i in range(len(puntos)):\n",
    "    clasknn.append(KNN(k,antes,puntos[i]))\n",
    "\n",
    "\n",
    "clasificaknn=[]\n",
    "for v in clasknn:\n",
    "    for item in v:\n",
    "        clasificaknn.append(item)\n",
    "clasificaknn=np.array(clasificaknn)\n",
    "clasificaknn=clasificaknn.astype('int')\n",
    "#clasificaknn"
   ]
  },
  {
   "cell_type": "markdown",
   "metadata": {},
   "source": [
    "### Comparación Bayes vs KNN"
   ]
  },
  {
   "cell_type": "code",
   "execution_count": 20,
   "metadata": {},
   "outputs": [
    {
     "data": {
      "text/plain": [
       "array([0, 2, 0, 0, 2, 1, 2, 0, 2, 1, 2, 1, 2, 2, 1, 2, 2, 1, 1, 0, 0, 2,\n",
       "       0, 0, 1, 1, 1, 2, 0, 1, 0, 1, 0, 0, 1, 2, 1, 2, 1, 0, 0, 2, 1, 1,\n",
       "       0])"
      ]
     },
     "execution_count": 20,
     "metadata": {},
     "output_type": "execute_result"
    }
   ],
   "source": [
    "clasesbayes"
   ]
  },
  {
   "cell_type": "code",
   "execution_count": 21,
   "metadata": {},
   "outputs": [
    {
     "data": {
      "text/plain": [
       "array([0, 2, 0, 0, 2, 1, 2, 0, 2, 1, 2, 1, 2, 2, 1, 1, 2, 1, 1, 0, 0, 2,\n",
       "       0, 0, 1, 1, 1, 2, 0, 1, 0, 1, 0, 0, 1, 2, 1, 2, 1, 0, 0, 2, 1, 1,\n",
       "       0])"
      ]
     },
     "execution_count": 21,
     "metadata": {},
     "output_type": "execute_result"
    }
   ],
   "source": [
    "clasificaknn"
   ]
  },
  {
   "cell_type": "code",
   "execution_count": 22,
   "metadata": {},
   "outputs": [
    {
     "data": {
      "text/plain": [
       "array([ True,  True,  True,  True,  True,  True,  True,  True,  True,\n",
       "        True,  True,  True,  True,  True,  True, False,  True,  True,\n",
       "        True,  True,  True,  True,  True,  True,  True,  True,  True,\n",
       "        True,  True,  True,  True,  True,  True,  True,  True,  True,\n",
       "        True,  True,  True,  True,  True,  True,  True,  True,  True])"
      ]
     },
     "execution_count": 22,
     "metadata": {},
     "output_type": "execute_result"
    }
   ],
   "source": [
    "clasificaknn==clasesbayes"
   ]
  },
  {
   "cell_type": "code",
   "execution_count": null,
   "metadata": {},
   "outputs": [],
   "source": []
  },
  {
   "cell_type": "markdown",
   "metadata": {},
   "source": [
    "#### Observaciones\n",
    "\n",
    "Dependiendo de la k que tomemos obtenemos diferentes clasificaciones para nuestro xtest \n",
    "\n",
    "    1. Cuando k=1 tenemos 44 coincidencias y difieren en un valor\n",
    "    2. Cuando k=3 tenemos 43 coincidencias y 2 valores diferentes\n",
    "    3. Cuando k=5 tenemos 43 coincidencias y 2 valores diferentes"
   ]
  },
  {
   "cell_type": "code",
   "execution_count": null,
   "metadata": {},
   "outputs": [],
   "source": []
  },
  {
   "cell_type": "markdown",
   "metadata": {},
   "source": [
    "## 5.Reportar: TN,FP, FN, TP, Specificity, Negative rate, precision, recall, accuracy y F1-Score"
   ]
  },
  {
   "cell_type": "markdown",
   "metadata": {},
   "source": [
    "### Clasificación real(ytest) de los datos del xtest"
   ]
  },
  {
   "cell_type": "code",
   "execution_count": 23,
   "metadata": {},
   "outputs": [
    {
     "name": "stderr",
     "output_type": "stream",
     "text": [
      "<ipython-input-23-00ec3514b9d5>:4: SettingWithCopyWarning: \n",
      "A value is trying to be set on a copy of a slice from a DataFrame\n",
      "\n",
      "See the caveats in the documentation: https://pandas.pydata.org/pandas-docs/stable/user_guide/indexing.html#returning-a-view-versus-a-copy\n",
      "  ytest[i]=0\n",
      "<ipython-input-23-00ec3514b9d5>:8: SettingWithCopyWarning: \n",
      "A value is trying to be set on a copy of a slice from a DataFrame\n",
      "\n",
      "See the caveats in the documentation: https://pandas.pydata.org/pandas-docs/stable/user_guide/indexing.html#returning-a-view-versus-a-copy\n",
      "  ytest[i]=2\n",
      "<ipython-input-23-00ec3514b9d5>:6: SettingWithCopyWarning: \n",
      "A value is trying to be set on a copy of a slice from a DataFrame\n",
      "\n",
      "See the caveats in the documentation: https://pandas.pydata.org/pandas-docs/stable/user_guide/indexing.html#returning-a-view-versus-a-copy\n",
      "  ytest[i]=1\n"
     ]
    },
    {
     "data": {
      "text/plain": [
       "array([0, 2, 0, 0, 2, 1, 2, 0, 2, 1, 2, 1, 2, 2, 1, 2, 2, 1, 1, 0, 0, 2,\n",
       "       0, 0, 1, 1, 1, 2, 0, 1, 0, 1, 0, 0, 2, 2, 1, 2, 1, 0, 0, 2, 1, 1,\n",
       "       0])"
      ]
     },
     "execution_count": 23,
     "metadata": {},
     "output_type": "execute_result"
    }
   ],
   "source": [
    "#Para la clasificacion real (ytest) cambiamos el valor de setosa por 0, versicolor por 1 y virginica por 2 \n",
    "for i in range(len(ytest)):\n",
    "    if(ytest[i]=='setosa'):\n",
    "        ytest[i]=0\n",
    "    elif(ytest[i]=='versicolor'):\n",
    "        ytest[i]=1\n",
    "    else:\n",
    "        ytest[i]=2\n",
    "ytest=np.array(ytest)\n",
    "ytest=ytest.astype('int')\n",
    "ytest"
   ]
  },
  {
   "cell_type": "code",
   "execution_count": null,
   "metadata": {},
   "outputs": [],
   "source": []
  },
  {
   "cell_type": "markdown",
   "metadata": {},
   "source": [
    "### Comparando Bayes vs clasificacion real\n"
   ]
  },
  {
   "cell_type": "code",
   "execution_count": 24,
   "metadata": {
    "cell_id": "5153a492c0804564ae16cc74393a9d4b",
    "deepnote_cell_height": 130.1875,
    "deepnote_cell_type": "code",
    "deepnote_to_be_reexecuted": false,
    "execution_millis": 2,
    "execution_start": 1651292811298,
    "source_hash": "e16d5756",
    "tags": []
   },
   "outputs": [
    {
     "name": "stdout",
     "output_type": "stream",
     "text": [
      "exactitud: 0.9777777777777777\n"
     ]
    }
   ],
   "source": [
    "from sklearn.metrics import accuracy_score\n",
    "print('exactitud:',accuracy_score(clasesbayes,ytest))"
   ]
  },
  {
   "cell_type": "code",
   "execution_count": 25,
   "metadata": {
    "cell_id": "458824d4510d47378081a3e54b238abd",
    "deepnote_cell_height": 130.1875,
    "deepnote_cell_type": "code",
    "deepnote_to_be_reexecuted": false,
    "execution_millis": 2,
    "execution_start": 1651292811352,
    "source_hash": "864fe903",
    "tags": []
   },
   "outputs": [
    {
     "name": "stdout",
     "output_type": "stream",
     "text": [
      "exactitud: 0.9777777777777777\n"
     ]
    }
   ],
   "source": [
    "from sklearn.metrics import precision_score\n",
    "print('exactitud:',precision_score(clasesbayes,ytest,average='micro'))"
   ]
  },
  {
   "cell_type": "code",
   "execution_count": 26,
   "metadata": {
    "cell_id": "1822c3ff097647df8198a23e03e7e53e",
    "deepnote_cell_height": 130.1875,
    "deepnote_cell_type": "code",
    "deepnote_to_be_reexecuted": false,
    "execution_millis": 25,
    "execution_start": 1651292811353,
    "source_hash": "5d8c12fa",
    "tags": []
   },
   "outputs": [
    {
     "name": "stdout",
     "output_type": "stream",
     "text": [
      "exactitud: 0.9777777777777777\n"
     ]
    }
   ],
   "source": [
    "from sklearn.metrics import recall_score\n",
    "print('exactitud:',recall_score(clasesbayes,ytest,average='micro'))"
   ]
  },
  {
   "cell_type": "code",
   "execution_count": 27,
   "metadata": {
    "cell_id": "d8f593ee37be4b98af768aa9d6862c7b",
    "deepnote_cell_height": 130.1875,
    "deepnote_cell_type": "code",
    "deepnote_to_be_reexecuted": false,
    "execution_millis": 3,
    "execution_start": 1651292811376,
    "source_hash": "59a47d7",
    "tags": []
   },
   "outputs": [
    {
     "name": "stdout",
     "output_type": "stream",
     "text": [
      "exactitud: 0.9777777777777777\n"
     ]
    }
   ],
   "source": [
    "from sklearn.metrics import f1_score\n",
    "print('exactitud:',f1_score(clasesbayes,ytest,average='micro'))"
   ]
  },
  {
   "cell_type": "code",
   "execution_count": 28,
   "metadata": {
    "cell_id": "d924ca8629cf457da0c60c8b125c390b",
    "deepnote_cell_height": 206.5625,
    "deepnote_cell_type": "code",
    "deepnote_to_be_reexecuted": false,
    "execution_millis": 2,
    "execution_start": 1651292811377,
    "source_hash": "4ef7cc51",
    "tags": []
   },
   "outputs": [
    {
     "name": "stdout",
     "output_type": "stream",
     "text": [
      "[[15  0  0]\n",
      " [ 0 15  1]\n",
      " [ 0  0 14]]\n"
     ]
    }
   ],
   "source": [
    "from sklearn.metrics import confusion_matrix\n",
    "cm = confusion_matrix(clasesbayes, ytest, labels=[0, 1,2])\n",
    "\n",
    "print(cm)"
   ]
  },
  {
   "cell_type": "code",
   "execution_count": 29,
   "metadata": {
    "cell_id": "4d7c0388d59546bd954e7bcd84dab739",
    "deepnote_cell_height": 298.75,
    "deepnote_cell_type": "code",
    "deepnote_to_be_reexecuted": false,
    "execution_millis": 54,
    "execution_start": 1651292811383,
    "source_hash": "d543ea47",
    "tags": []
   },
   "outputs": [
    {
     "name": "stdout",
     "output_type": "stream",
     "text": [
      "True Positive 44\n",
      "True Negative 1\n",
      "False Positive 1\n",
      "False Negative 0\n"
     ]
    }
   ],
   "source": [
    "tp= cm[0][0]+cm[1][1]+cm[2][2]\n",
    "tn=cm[0][1]+cm[0][2]+cm[1][0]+cm[1][2]+cm[2][0]+cm[2][1]\n",
    "fp=cm[0][1]+cm[0][2]+cm[1][2]\n",
    "fn=cm[2][0]+cm[2][1]+cm[1][0]\n",
    "print('True Positive', tp)\n",
    "print('True Negative', tn)\n",
    "print('False Positive', fp)\n",
    "print('False Negative', fn)"
   ]
  },
  {
   "cell_type": "code",
   "execution_count": null,
   "metadata": {},
   "outputs": [],
   "source": []
  },
  {
   "cell_type": "markdown",
   "metadata": {},
   "source": [
    "### Comparando KNN vs clasificacion real\n"
   ]
  },
  {
   "cell_type": "code",
   "execution_count": 30,
   "metadata": {
    "cell_id": "8bdb8d4169fa40e8af1cf652eeeaaf17",
    "deepnote_cell_height": 438.1875,
    "deepnote_cell_type": "code",
    "deepnote_output_heights": [
     21.1875,
     253
    ],
    "deepnote_to_be_reexecuted": false,
    "execution_millis": 442,
    "execution_start": 1651292809922,
    "source_hash": "da8a1615",
    "tags": []
   },
   "outputs": [
    {
     "name": "stdout",
     "output_type": "stream",
     "text": [
      "exactitud: 0.9555555555555556\n"
     ]
    }
   ],
   "source": [
    "from sklearn.metrics import accuracy_score\n",
    "print('exactitud:',accuracy_score(clasificaknn,ytest))"
   ]
  },
  {
   "cell_type": "code",
   "execution_count": 31,
   "metadata": {},
   "outputs": [
    {
     "name": "stdout",
     "output_type": "stream",
     "text": [
      "exactitud: 0.9555555555555556\n"
     ]
    }
   ],
   "source": [
    "from sklearn.metrics import precision_score\n",
    "print('exactitud:',precision_score(clasificaknn,ytest,average='micro'))"
   ]
  },
  {
   "cell_type": "code",
   "execution_count": 32,
   "metadata": {},
   "outputs": [
    {
     "name": "stdout",
     "output_type": "stream",
     "text": [
      "exactitud: 0.9555555555555556\n"
     ]
    }
   ],
   "source": [
    "from sklearn.metrics import recall_score\n",
    "print('exactitud:',recall_score(clasificaknn,ytest,average='micro'))"
   ]
  },
  {
   "cell_type": "code",
   "execution_count": 33,
   "metadata": {},
   "outputs": [
    {
     "name": "stdout",
     "output_type": "stream",
     "text": [
      "exactitud: 0.9555555555555556\n"
     ]
    }
   ],
   "source": [
    "from sklearn.metrics import f1_score\n",
    "print('exactitud:',f1_score(clasificaknn,ytest,average='micro'))"
   ]
  },
  {
   "cell_type": "code",
   "execution_count": 34,
   "metadata": {},
   "outputs": [
    {
     "name": "stdout",
     "output_type": "stream",
     "text": [
      "[[15  0  0]\n",
      " [ 0 15  2]\n",
      " [ 0  0 13]]\n"
     ]
    }
   ],
   "source": [
    "from sklearn.metrics import confusion_matrix\n",
    "cm = confusion_matrix(clasificaknn, ytest, labels=[0, 1,2])\n",
    "\n",
    "print(cm)"
   ]
  },
  {
   "cell_type": "code",
   "execution_count": 35,
   "metadata": {},
   "outputs": [
    {
     "name": "stdout",
     "output_type": "stream",
     "text": [
      "True Positive 43\n",
      "True Negative 2\n",
      "False Positive 2\n",
      "False Negative 0\n"
     ]
    }
   ],
   "source": [
    "tp= cm[0][0]+cm[1][1]+cm[2][2]\n",
    "tn=cm[0][1]+cm[0][2]+cm[1][0]+cm[1][2]+cm[2][0]+cm[2][1]\n",
    "fp=cm[0][1]+cm[0][2]+cm[1][2]\n",
    "fn=cm[2][0]+cm[2][1]+cm[1][0]\n",
    "print('True Positive', tp)\n",
    "print('True Negative', tn)\n",
    "print('False Positive', fp)\n",
    "print('False Negative', fn)"
   ]
  },
  {
   "cell_type": "code",
   "execution_count": null,
   "metadata": {},
   "outputs": [],
   "source": []
  },
  {
   "cell_type": "code",
   "execution_count": null,
   "metadata": {
    "cell_id": "7f94d33b9b504e53807d8f37ee6e8588",
    "deepnote_cell_height": 99,
    "deepnote_cell_type": "code",
    "deepnote_to_be_reexecuted": false,
    "execution_millis": 42334,
    "execution_start": 1651292807542,
    "source_hash": "225c02e9",
    "tags": []
   },
   "outputs": [],
   "source": []
  },
  {
   "cell_type": "code",
   "execution_count": null,
   "metadata": {},
   "outputs": [],
   "source": []
  },
  {
   "cell_type": "code",
   "execution_count": null,
   "metadata": {
    "cell_id": "3c97c17eb28c467b81d54499e6dd6ed9",
    "deepnote_cell_height": 81,
    "deepnote_cell_type": "code",
    "deepnote_to_be_reexecuted": false,
    "execution_millis": 6,
    "execution_start": 1651292809865,
    "source_hash": "b623e53d",
    "tags": []
   },
   "outputs": [],
   "source": []
  },
  {
   "cell_type": "code",
   "execution_count": null,
   "metadata": {
    "cell_id": "24dd8ffdf1254362bbad9df5940044a7",
    "deepnote_cell_height": 81,
    "deepnote_cell_type": "code",
    "deepnote_to_be_reexecuted": false,
    "execution_millis": 41619,
    "execution_start": 1651292809874,
    "owner_user_id": "c819d789-05bd-4021-a837-defcdae13504",
    "source_hash": "b623e53d",
    "tags": []
   },
   "outputs": [],
   "source": []
  },
  {
   "cell_type": "code",
   "execution_count": null,
   "metadata": {
    "cell_id": "285291ace69442e5b5f2680ddde60f40",
    "deepnote_cell_height": 117,
    "deepnote_cell_type": "code",
    "deepnote_to_be_reexecuted": false,
    "execution_millis": 2,
    "execution_start": 1651292810370,
    "source_hash": "d22bb92a",
    "tags": []
   },
   "outputs": [],
   "source": []
  },
  {
   "cell_type": "code",
   "execution_count": null,
   "metadata": {},
   "outputs": [],
   "source": []
  },
  {
   "cell_type": "code",
   "execution_count": null,
   "metadata": {},
   "outputs": [],
   "source": []
  },
  {
   "cell_type": "code",
   "execution_count": null,
   "metadata": {},
   "outputs": [],
   "source": []
  },
  {
   "cell_type": "code",
   "execution_count": null,
   "metadata": {},
   "outputs": [],
   "source": []
  },
  {
   "cell_type": "code",
   "execution_count": null,
   "metadata": {},
   "outputs": [],
   "source": []
  },
  {
   "cell_type": "code",
   "execution_count": null,
   "metadata": {
    "cell_id": "2935010bcd6047a9ab3b39ef2e26ff20",
    "deepnote_cell_height": 99,
    "deepnote_cell_type": "code",
    "deepnote_to_be_reexecuted": false,
    "execution_millis": 0,
    "execution_start": 1651292810404,
    "source_hash": "b14c55a9",
    "tags": []
   },
   "outputs": [],
   "source": []
  },
  {
   "cell_type": "code",
   "execution_count": null,
   "metadata": {
    "cell_id": "04e4534e9a914269ab592966ead06f75",
    "deepnote_cell_height": 153,
    "deepnote_cell_type": "code",
    "deepnote_to_be_reexecuted": false,
    "execution_millis": 0,
    "execution_start": 1651292810405,
    "source_hash": "300ec861",
    "tags": []
   },
   "outputs": [],
   "source": []
  },
  {
   "cell_type": "code",
   "execution_count": null,
   "metadata": {
    "cell_id": "4300e6f4a7164fd9adafe8e27cb8e506",
    "deepnote_cell_height": 261,
    "deepnote_cell_type": "code",
    "deepnote_to_be_reexecuted": false,
    "execution_millis": 0,
    "execution_start": 1651292810406,
    "source_hash": "3488e604",
    "tags": []
   },
   "outputs": [],
   "source": [
    "\n",
    "\n",
    "\n"
   ]
  },
  {
   "cell_type": "code",
   "execution_count": null,
   "metadata": {
    "cell_id": "97a8e0c4f47e482b85b234caa3103d2f",
    "deepnote_cell_height": 99,
    "deepnote_cell_type": "code",
    "deepnote_output_heights": [
     21.1875,
     21.1875
    ],
    "deepnote_to_be_reexecuted": false,
    "execution_millis": 3,
    "execution_start": 1651292810452,
    "source_hash": "3ca9bd30",
    "tags": []
   },
   "outputs": [],
   "source": [
    "\n"
   ]
  },
  {
   "cell_type": "code",
   "execution_count": null,
   "metadata": {
    "cell_id": "2bd6d3fb9f874bc186ffc3603d0d1926",
    "deepnote_cell_height": 726,
    "deepnote_cell_type": "code",
    "deepnote_output_heights": [
     611
    ],
    "deepnote_to_be_reexecuted": false,
    "execution_millis": 9,
    "execution_start": 1651292810458,
    "source_hash": "4bc9c397",
    "tags": []
   },
   "outputs": [],
   "source": []
  },
  {
   "cell_type": "code",
   "execution_count": null,
   "metadata": {
    "cell_id": "25e91305b1e94b219a49234d0513c1e9",
    "deepnote_cell_height": 636,
    "deepnote_cell_type": "code",
    "deepnote_output_heights": [
     21.1875
    ],
    "deepnote_to_be_reexecuted": false,
    "execution_millis": 16,
    "execution_start": 1651292810603,
    "source_hash": "ba034637",
    "tags": []
   },
   "outputs": [],
   "source": [
    "\n"
   ]
  },
  {
   "cell_type": "code",
   "execution_count": null,
   "metadata": {
    "cell_id": "69e9c709daee4ffca23a43b6c0d87a0e",
    "deepnote_cell_height": 135,
    "deepnote_cell_type": "code",
    "deepnote_to_be_reexecuted": false,
    "execution_millis": 490,
    "execution_start": 1651292810622,
    "source_hash": "c3a09570",
    "tags": []
   },
   "outputs": [],
   "source": []
  },
  {
   "cell_type": "code",
   "execution_count": null,
   "metadata": {
    "cell_id": "4547936c00fb4a9faf3f13c014db888d",
    "deepnote_cell_height": 174.5625,
    "deepnote_cell_type": "code",
    "deepnote_output_heights": [
     59.5625
    ],
    "deepnote_to_be_reexecuted": false,
    "execution_millis": 56,
    "execution_start": 1651292811151,
    "source_hash": "7e889946",
    "tags": []
   },
   "outputs": [],
   "source": []
  },
  {
   "cell_type": "code",
   "execution_count": null,
   "metadata": {
    "cell_id": "17a1224723fc4fbab59003c574191cab",
    "deepnote_cell_height": 744,
    "deepnote_cell_type": "code",
    "deepnote_output_heights": [
     611
    ],
    "deepnote_to_be_reexecuted": false,
    "execution_millis": 3,
    "execution_start": 1651292811205,
    "source_hash": "d0594afc",
    "tags": []
   },
   "outputs": [],
   "source": []
  },
  {
   "cell_type": "code",
   "execution_count": null,
   "metadata": {
    "cell_id": "729d6ff5d17c4916a98b99b9f56cc5d6",
    "deepnote_cell_height": 600,
    "deepnote_cell_type": "code",
    "deepnote_to_be_reexecuted": false,
    "execution_millis": 91,
    "execution_start": 1651292811205,
    "source_hash": "e4a22468",
    "tags": []
   },
   "outputs": [],
   "source": []
  },
  {
   "cell_type": "code",
   "execution_count": null,
   "metadata": {
    "cell_id": "2169416721b943c3ae002832ffbaa54a",
    "deepnote_cell_height": 81,
    "deepnote_cell_type": "code",
    "deepnote_to_be_reexecuted": false,
    "execution_millis": 2,
    "execution_start": 1651292811378,
    "source_hash": "b623e53d",
    "tags": []
   },
   "outputs": [],
   "source": []
  },
  {
   "cell_type": "code",
   "execution_count": null,
   "metadata": {
    "cell_id": "75a0694aba034c188a99b35439137413",
    "deepnote_cell_height": 172.1875,
    "deepnote_cell_type": "code",
    "deepnote_output_heights": [
     21.1875
    ],
    "deepnote_to_be_reexecuted": false,
    "execution_millis": 76,
    "execution_start": 1651293024196,
    "source_hash": "88074fd8",
    "tags": []
   },
   "outputs": [],
   "source": []
  },
  {
   "cell_type": "code",
   "execution_count": null,
   "metadata": {
    "cell_id": "7546e26fb8a4467f95fcf4610ce6a716",
    "deepnote_cell_height": 81,
    "deepnote_cell_type": "code",
    "deepnote_to_be_reexecuted": false,
    "execution_millis": 23993,
    "execution_start": 1651292811437,
    "owner_user_id": "ce6f038f-0038-45f1-9b07-3b4a28c707b0",
    "source_hash": "b623e53d",
    "tags": []
   },
   "outputs": [],
   "source": []
  },
  {
   "cell_type": "code",
   "execution_count": null,
   "metadata": {
    "cell_id": "b3790e12517641e1bbcb42b72da90c66",
    "deepnote_cell_height": 81,
    "deepnote_cell_type": "code",
    "deepnote_to_be_reexecuted": false,
    "execution_millis": 23986,
    "execution_start": 1651292811481,
    "source_hash": "b623e53d",
    "tags": []
   },
   "outputs": [],
   "source": []
  },
  {
   "cell_type": "code",
   "execution_count": null,
   "metadata": {
    "cell_id": "c96fabbd68db4b90bb12e15b022e4dbd",
    "deepnote_cell_height": 81,
    "deepnote_cell_type": "code",
    "deepnote_to_be_reexecuted": false,
    "execution_millis": 24022,
    "execution_start": 1651292811482,
    "source_hash": "b623e53d",
    "tags": []
   },
   "outputs": [],
   "source": []
  }
 ],
 "metadata": {
  "deepnote": {},
  "deepnote_execution_queue": [],
  "deepnote_notebook_id": "5dc9d406-3a21-4eca-92b4-95021090b824",
  "kernelspec": {
   "display_name": "Python 3",
   "language": "python",
   "name": "python3"
  },
  "language_info": {
   "codemirror_mode": {
    "name": "ipython",
    "version": 3
   },
   "file_extension": ".py",
   "mimetype": "text/x-python",
   "name": "python",
   "nbconvert_exporter": "python",
   "pygments_lexer": "ipython3",
   "version": "3.8.8"
  }
 },
 "nbformat": 4,
 "nbformat_minor": 2
}
