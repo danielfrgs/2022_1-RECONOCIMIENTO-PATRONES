{
 "cells": [
  {
   "cell_type": "markdown",
   "metadata": {},
   "source": [
    "# Laboratorio 5: Patrones Normales\n",
    "\n",
    "Fragoso Alvarado Daniel | 316049054"
   ]
  },
  {
   "cell_type": "markdown",
   "metadata": {},
   "source": [
    "### 1. Implementación del Clasificador de Bayes\n",
    "\n",
    "Recordemos que la función de decisión de un clasificador de pagtrones normales esta dada por:\n",
    "\n",
    "$$\n",
    "d_{i}(x)=-\\frac{1}{2} \\ln \\left|\\Sigma_{i}\\right|-\\frac{1}{2}\\left(x-\\mu_{i}\\right)^{T} \\Sigma_{i}^{-1}\\left(x-\\mu_{i}\\right)+\\ln \\left(p\\left(C_{i}\\right)\\right)\n",
    "$$\n",
    "\n",
    "donde; \n",
    "\n",
    "$$\n",
    "\\begin{aligned}\n",
    "&\\mu_{i}=\\int_{\\mathbb{R}^{n}} x_{i} p(x) d x \\\\\n",
    "&\\sigma_{i j}=\\int_{\\mathbb{R}^{n}}\\left(x_{i}-\\mu_{i}\\right)\\left(x_{j}-\\mu_{j}\\right) p(x) d x\n",
    "\\end{aligned}\n",
    "$$\n",
    "\n",
    "la media, y los elemntos de la matriz de covarianza respectivamente. Los patrones más cercanos serán los clasificados, vamos a implementarlo partiendo de que el usuario nos da valores como la media y la covarianza."
   ]
  },
  {
   "cell_type": "code",
   "execution_count": 2,
   "metadata": {},
   "outputs": [],
   "source": [
    "import math\n",
    "import numpy as np\n",
    "\n",
    "def Bayes_dis(sigma, mu, x, p):\n",
    "    '''\n",
    "    Función que genera la distancia de cada patron según Bayes.\n",
    "\n",
    "    Parámetros\n",
    "    ----------\n",
    "    sigma : Array\n",
    "        Matriz de covarianza\n",
    "\n",
    "    mu : Array\n",
    "        Matriz de media.\n",
    "\n",
    "    pc: Entero\n",
    "        Valor de probabilidad\n",
    "\n",
    "    Retorna \n",
    "    ----------\n",
    "    distancia : Float\n",
    "        Valor flotante que representa lal distancia a la clase Ci\n",
    "    '''\n",
    "    return(-1/2*(np.log(np.linalg.det(sigma))) - 1/2*np.dot((x.T-mu.T).T, np.dot(np.linalg.inv(sigma),(x.T-mu.T)))+ np.log(p))\n"
   ]
  },
  {
   "cell_type": "code",
   "execution_count": 3,
   "metadata": {},
   "outputs": [],
   "source": [
    "def Bayes_Normal(sigma, mu, pc, data):\n",
    "    '''\n",
    "    Función que clasifica 'data' por medio de bayes.\n",
    "\n",
    "    Parámetros\n",
    "    ----------\n",
    "    data : Lista de listas.\n",
    "        Los patrones que deseamos clasificar.\n",
    "        \n",
    "    sigma : Lista de Lista\n",
    "        Lista de Matrices de covarianza\n",
    "\n",
    "    mu : Lista de Lista\n",
    "        Lista de Matrices de media.\n",
    "\n",
    "    pc: Lista de Listas\n",
    "        Lista de valores de probabilidad\n",
    "\n",
    "    Retorna \n",
    "    ----------\n",
    "    labels : Lista\n",
    "        Es una lista que indica el grupo al que pertenece cada patrón.\n",
    "    '''\n",
    "    labels = []\n",
    "    clases = len(sigma)\n",
    "    for x in data:\n",
    "        dis = []\n",
    "        for i in range(clases):\n",
    "            dis.append(Bayes_dis(np.array(sigma[i]), np.array(mu[i]), np.array(x), np.array(pc[i])))\n",
    "\n",
    "        max_value = max(dis)\n",
    "        max_index = dis.index(max_value)\n",
    "        labels.append(max_index)\n",
    "    return(labels)"
   ]
  },
  {
   "cell_type": "markdown",
   "metadata": {},
   "source": [
    "### 2. Conjunto de datos del iris\n",
    "\n",
    "Vamos a obtener los datos de los conjuntos ya implemnetados en Sklearn:"
   ]
  },
  {
   "cell_type": "code",
   "execution_count": 4,
   "metadata": {},
   "outputs": [],
   "source": [
    "from sklearn import datasets\n",
    "iris = datasets.load_iris()"
   ]
  },
  {
   "cell_type": "code",
   "execution_count": 5,
   "metadata": {},
   "outputs": [],
   "source": [
    "# Ahora vamos a tomar los datos\n",
    "X = iris.data\n",
    "y = iris.target"
   ]
  },
  {
   "cell_type": "markdown",
   "metadata": {},
   "source": [
    "### 3. Aplicar el Algoritmo"
   ]
  },
  {
   "cell_type": "code",
   "execution_count": 6,
   "metadata": {},
   "outputs": [],
   "source": [
    "# Los valores default estaran dados por la media y convarianza para cada categoria:\n",
    "\n",
    "# Media:\n",
    "\n",
    "mu1 = X[y == 0].mean(0)\n",
    "mu2 = X[y == 1].mean(0)\n",
    "mu3 = X[y == 2].mean(0)\n",
    "\n",
    "# Covarianza:\n",
    "\n",
    "sigma1 = np.cov(X[y == 0].T)\n",
    "sigma2 = np.cov(X[y == 1].T)\n",
    "sigma3 = np.cov(X[y == 2].T)\n",
    "\n",
    "# Pci donde vamos a calcularla con la probabilidad de que un grupo pertenezca \n",
    "# a alguna de las calasificaciones dado el conjunto:\n",
    "\n",
    "p1 = 1/3\n",
    "p2 = 1/3\n",
    "p3 = 1/3"
   ]
  },
  {
   "cell_type": "code",
   "execution_count": 7,
   "metadata": {},
   "outputs": [],
   "source": [
    "# Aplicamos el algoritmo:\n",
    "labels = Bayes_Normal([sigma1, sigma2, sigma3], [mu1, mu2, mu3], [p1, p2, p3], X)"
   ]
  },
  {
   "cell_type": "code",
   "execution_count": 8,
   "metadata": {},
   "outputs": [
    {
     "data": {
      "image/png": "[encoded data removed]",
      "text/plain": [
       "<Figure size 432x288 with 1 Axes>"
      ]
     },
     "metadata": {
      "needs_background": "light"
     },
     "output_type": "display_data"
    }
   ],
   "source": [
    "#GRAFICA 1\n",
    "# VALORES ORIGINALES\n",
    "import matplotlib.pyplot as plt\n",
    "import seaborn as sb\n",
    "\n",
    "plt.scatter(X[:, 1], X[:, 2], c=y)\n",
    "plt.show()"
   ]
  },
  {
   "cell_type": "code",
   "execution_count": 9,
   "metadata": {},
   "outputs": [
    {
     "data": {
      "image/png": "[encoded data removed]",
      "text/plain": [
       "<Figure size 432x288 with 1 Axes>"
      ]
     },
     "metadata": {
      "needs_background": "light"
     },
     "output_type": "display_data"
    }
   ],
   "source": [
    "#GRAFICA 2  \n",
    "# VALORES CLASIFICADOS CON BAYES\n",
    "plt.scatter(X[:, 1], X[:, 2], c=labels)\n",
    "plt.show()"
   ]
  },
  {
   "cell_type": "markdown",
   "metadata": {},
   "source": [
    "### 4. Con KNN\n",
    "\n",
    "Vamos a agregar el algoritmo antes implementado en clase, y vamos a establecer solo 1 vecino:"
   ]
  },
  {
   "cell_type": "code",
   "execution_count": 10,
   "metadata": {},
   "outputs": [],
   "source": [
    "from collections import Counter\n",
    "from scipy.spatial import distance\n",
    "\n",
    "def Kvecinos(X, y, k, Patrones):\n",
    "    '''\n",
    "    Kvecinos:\n",
    "      Función que clasifica puntos de un conjunto de datos a partir de KNN con la \n",
    "      distancia euclidea\n",
    "\n",
    "    Parámetros\n",
    "    ----------\n",
    "    X:  Lista\n",
    "      Conjunto de patreones clasificados\n",
    "    y:  Lista \n",
    "      Conjunto de etiquetas de clase\n",
    "    k:  Número entero \n",
    "      Número de Vecinos\n",
    "    Patrones: Lista\n",
    "      Conjunto de patrones que vamos a clasificar\n",
    "    '''\n",
    "    # Generamos lista vacia para establcer las clasificaciones\n",
    "    predict = []\n",
    "\n",
    "    # Tratamos de clasificar\n",
    "    for patron in Patrones:\n",
    "        # Lista para almacena distancias\n",
    "        distances = []\n",
    "        for x in X:\n",
    "            distances.append(distance.euclidean(x, patron))\n",
    "        # Selección del número de indices que nos interesan\n",
    "        k_indice = np.argsort(distances)[:k] # Esto nos da el índice de las primeras k distancias. \n",
    "        # Obtenemos de y_train la etiqueta\n",
    "        k_label = [y[i] for i in k_indice]\n",
    "        # Ahora para clasificarlo vamos a buscar la etiqueta que más se repite\n",
    "        # por medio de la función counter. y el atributo moss_common que da una lista \n",
    "        # de tuplas que en primer lugar tienen el elemnto de mayor repetición entonces \n",
    "        predict.append(Counter(k_label).most_common(1)[0][0])\n",
    "    return predict"
   ]
  },
  {
   "cell_type": "code",
   "execution_count": 11,
   "metadata": {},
   "outputs": [],
   "source": [
    "from sklearn.model_selection import train_test_split\n",
    "#Separamos los datos de \"train\" en entrenamiento y prueba para probar los algoritmos\n",
    "X_train, X_test, y_train, y_test = train_test_split(X, y, test_size=0.2)"
   ]
  },
  {
   "cell_type": "code",
   "execution_count": 12,
   "metadata": {},
   "outputs": [],
   "source": [
    "# Aplicamos el algoritmo de k-vecinos\n",
    "labelsknn = Kvecinos(X_train, y_train, 1, X_test)"
   ]
  },
  {
   "cell_type": "code",
   "execution_count": 13,
   "metadata": {},
   "outputs": [
    {
     "data": {
      "image/png": "[encoded data removed]",
      "text/plain": [
       "<Figure size 432x288 with 1 Axes>"
      ]
     },
     "metadata": {
      "needs_background": "light"
     },
     "output_type": "display_data"
    }
   ],
   "source": [
    "# GRAFICA 3 \n",
    "# CLASIFICACIÓN CON  KNN\n",
    "plt.scatter(X_test[:, 1], X_test[:, 2], c=labelsknn)\n",
    "plt.scatter(X_train[:, 1], X_train[:, 2], c=y_train)\n",
    "plt.show()"
   ]
  },
  {
   "cell_type": "code",
   "execution_count": 14,
   "metadata": {},
   "outputs": [],
   "source": [
    "# Aplicamos Bayes al mismo cojunto de entrenamiento\n",
    "bayes =  Bayes_Normal([sigma1, sigma2, sigma3], [mu1, mu2, mu3], [p1, p2, p3], X_test)\n",
    "knn =  labelsknn"
   ]
  },
  {
   "cell_type": "code",
   "execution_count": 15,
   "metadata": {},
   "outputs": [
    {
     "data": {
      "text/plain": [
       "True"
      ]
     },
     "execution_count": 15,
     "metadata": {},
     "output_type": "execute_result"
    }
   ],
   "source": [
    "bayes == knn"
   ]
  },
  {
   "cell_type": "markdown",
   "metadata": {},
   "source": [
    "Notemos que para k = 1, la clasificación es igual, al mneos para este subconjunto conjuunto de datos."
   ]
  },
  {
   "cell_type": "markdown",
   "metadata": {},
   "source": [
    "### 5. Métricas\n",
    "\n",
    "Notemos que el calculo de las métricas TN, FP, FN, TP, Así como la Specificity, Negative rate,  precision, recall, accuracy y F1-Score\n",
    "son métricas que dependen de clasificaciones binarias. Por ello para calcularlas vamos a calcular la matriz de confusión y a partir de esta vamos a calular las métricas para cada valor fijado, de forma que:\n",
    "\n",
    "![Cat](AuTKP.png)\n",
    "\n",
    "\n",
    "Usaremos las implementaciones de sklearn para mayor practicidad:"
   ]
  },
  {
   "cell_type": "code",
   "execution_count": 16,
   "metadata": {},
   "outputs": [
    {
     "data": {
      "text/plain": [
       "array([[50,  0,  0],\n",
       "       [ 0, 48,  2],\n",
       "       [ 0,  1, 49]])"
      ]
     },
     "execution_count": 16,
     "metadata": {},
     "output_type": "execute_result"
    }
   ],
   "source": [
    "# Notemos que el calculo de TN, FD, FN, y TP equivale a la matriz de confusión:\n",
    "from sklearn.metrics import confusion_matrix\n",
    "\n",
    "conf_matrix = confusion_matrix(y, labels)\n",
    "\n",
    "conf_matrix"
   ]
  },
  {
   "cell_type": "code",
   "execution_count": 81,
   "metadata": {},
   "outputs": [
    {
     "name": "stdout",
     "output_type": "stream",
     "text": [
      "Para la categoria: 0\n",
      "\n",
      "TP: 50\n",
      "TN: 100\n",
      "FP: 0\n",
      "FN: 0\n",
      "\n",
      "------ Metricas: ------ \n",
      "\n",
      "Specificity: 1.0\n",
      "Recall: 1.0\n",
      "Negative rate: 1.0\n",
      "Precision: 1.0\n",
      "Accuracy: 1.0\n",
      "F1 - Score: 1.0\n"
     ]
    }
   ],
   "source": [
    "# PARA 0:\n",
    "\n",
    "i = 0\n",
    "tp = conf_matrix[i, i]\n",
    "tn = conf_matrix[i+1:,i+1: ].sum() + conf_matrix[0:i,0:i].sum()\n",
    "fp = conf_matrix[i+1:,i].sum() + conf_matrix[:i,i].sum()\n",
    "fn = conf_matrix[i, :i].sum() + conf_matrix[i, i+1:].sum()\n",
    "\n",
    "spe = tn/(tn+fp)\n",
    "recal = tp/(tp+fn)\n",
    "pres = tp/(tp+fp)\n",
    "neg = tn/(fn+tn)\n",
    "accu = (tp+tn)/(tp+fp+tn+fn)\n",
    "f1 = (2*recal*pres)/(recal+pres)\n",
    "\n",
    "print('Para la categoria: {}\\n'.format(i))\n",
    "\n",
    "print('TP: {}'.format(tp))\n",
    "print('TN: {}'.format(tn))\n",
    "print('FP: {}'.format(fp))\n",
    "print('FN: {}'.format(fn))\n",
    "\n",
    "print('\\n------ Metricas: ------ \\n')\n",
    "\n",
    "print('Specificity: {}'.format(spe))\n",
    "print('Recall: {}'.format(recal))\n",
    "print('Negative rate: {}'.format(neg))\n",
    "print('Precision: {}'.format(pres))\n",
    "\n",
    "print('Accuracy: {}'.format(accu))\n",
    "print('F1 - Score: {}'.format(f1))\n"
   ]
  },
  {
   "cell_type": "code",
   "execution_count": 80,
   "metadata": {},
   "outputs": [
    {
     "name": "stdout",
     "output_type": "stream",
     "text": [
      "Para la categoria: 1\n",
      "\n",
      "TP: 48\n",
      "TN: 99\n",
      "FP: 1\n",
      "FN: 2\n",
      "\n",
      "------ Metricas: ------ \n",
      "\n",
      "Specificity: 0.99\n",
      "Recall: 0.96\n",
      "Negative rate: 0.9801980198019802\n",
      "Precision: 0.9795918367346939\n",
      "Accuracy: 0.98\n",
      "F1 - Score: 0.9696969696969697\n"
     ]
    }
   ],
   "source": [
    "# PARA 1:\n",
    "\n",
    "i = 1\n",
    "tp = conf_matrix[i, i]\n",
    "tn = conf_matrix[i+1:,i+1: ].sum() + conf_matrix[0:i,0:i].sum()\n",
    "fp = conf_matrix[i+1:,i].sum() + conf_matrix[:i,i].sum()\n",
    "fn = conf_matrix[i, :i].sum() + conf_matrix[i, i+1:].sum()\n",
    "\n",
    "spe = tn/(tn+fp)\n",
    "recal = tp/(tp+fn)\n",
    "pres = tp/(tp+fp)\n",
    "neg = tn/(fn+tn)\n",
    "accu = (tp+tn)/(tp+fp+tn+fn)\n",
    "f1 = (2*recal*pres)/(recal+pres)\n",
    "\n",
    "print('Para la categoria: {}\\n'.format(i))\n",
    "\n",
    "print('TP: {}'.format(tp))\n",
    "print('TN: {}'.format(tn))\n",
    "print('FP: {}'.format(fp))\n",
    "print('FN: {}'.format(fn))\n",
    "\n",
    "print('\\n------ Metricas: ------ \\n')\n",
    "\n",
    "print('Specificity: {}'.format(spe))\n",
    "print('Recall: {}'.format(recal))\n",
    "print('Negative rate: {}'.format(neg))\n",
    "print('Precision: {}'.format(pres))\n",
    "\n",
    "print('Accuracy: {}'.format(accu))\n",
    "print('F1 - Score: {}'.format(f1))"
   ]
  },
  {
   "cell_type": "code",
   "execution_count": 79,
   "metadata": {},
   "outputs": [
    {
     "name": "stdout",
     "output_type": "stream",
     "text": [
      "Para la categoria: 2\n",
      "\n",
      "TP: 49\n",
      "TN: 98\n",
      "FP: 2\n",
      "FN: 1\n",
      "\n",
      "------ Metricas: ------ \n",
      "\n",
      "Specificity: 0.98\n",
      "Recall: 0.98\n",
      "Negative rate: 0.98989898989899\n",
      "Precision: 0.9607843137254902\n",
      "Accuracy: 0.98\n",
      "F1 - Score: 0.9702970297029702\n"
     ]
    }
   ],
   "source": [
    "# PARA 2:\n",
    "\n",
    "i = 2\n",
    "tp = conf_matrix[i, i]\n",
    "tn = conf_matrix[i+1:,i+1: ].sum() + conf_matrix[0:i,0:i].sum()\n",
    "fp = conf_matrix[i+1:,i].sum() + conf_matrix[:i,i].sum()\n",
    "fn = conf_matrix[i, :i].sum() + conf_matrix[i, i+1:].sum()\n",
    "\n",
    "spe = tn/(tn+fp)\n",
    "recal = tp/(tp+fn)\n",
    "pres = tp/(tp+fp)\n",
    "neg = tn/(fn+tn)\n",
    "accu = (tp+tn)/(tp+fp+tn+fn)\n",
    "f1 = (2*recal*pres)/(recal+pres)\n",
    "\n",
    "print('Para la categoria: {}\\n'.format(i))\n",
    "\n",
    "print('TP: {}'.format(tp))\n",
    "print('TN: {}'.format(tn))\n",
    "print('FP: {}'.format(fp))\n",
    "print('FN: {}'.format(fn))\n",
    "\n",
    "print('\\n------ Metricas: ------ \\n')\n",
    "\n",
    "print('Specificity: {}'.format(spe))\n",
    "print('Recall: {}'.format(recal))\n",
    "print('Negative rate: {}'.format(neg))\n",
    "print('Precision: {}'.format(pres))\n",
    "\n",
    "print('Accuracy: {}'.format(accu))\n",
    "print('F1 - Score: {}'.format(f1))"
   ]
  },
  {
   "cell_type": "code",
   "execution_count": null,
   "metadata": {},
   "outputs": [],
   "source": []
  }
 ],
 "metadata": {
  "interpreter": {
   "hash": "aee8b7b246df8f9039afb4144a1f6fd8d2ca17a180786b69acc140d282b71a49"
  },
  "kernelspec": {
   "display_name": "Python 3.9.12 64-bit",
   "language": "python",
   "name": "python3"
  },
  "language_info": {
   "codemirror_mode": {
    "name": "ipython",
    "version": 3
   },
   "file_extension": ".py",
   "mimetype": "text/x-python",
   "name": "python",
   "nbconvert_exporter": "python",
   "pygments_lexer": "ipython3",
   "version": "3.9.12"
  },
  "orig_nbformat": 4
 },
 "nbformat": 4,
 "nbformat_minor": 2
}
