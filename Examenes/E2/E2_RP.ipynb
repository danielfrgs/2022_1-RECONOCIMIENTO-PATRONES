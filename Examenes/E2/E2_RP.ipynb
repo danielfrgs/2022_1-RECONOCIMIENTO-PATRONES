{
  "nbformat": 4,
  "nbformat_minor": 0,
  "metadata": {
    "colab": {
      "name": "E2_RP.ipynb",
      "provenance": [],
      "authorship_tag": "ABX9TyPQ4NtuRpl/w4IcccVr0qQP",
      "include_colab_link": true
    },
    "kernelspec": {
      "name": "python3",
      "display_name": "Python 3"
    },
    "language_info": {
      "name": "python"
    }
  },
  "cells": [
    {
      "cell_type": "markdown",
      "metadata": {
        "id": "view-in-github",
        "colab_type": "text"
      },
      "source": [
        "<a href=\"https://colab.research.google.com/github/danielfrgs/2022_1-Reconocimiento-Patrones/blob/main/Examenes/E2/E2_RP.ipynb\" target=\"_parent\"><img src=\"https://colab.research.google.com/assets/colab-badge.svg\" alt=\"Open In Colab\"/></a>"
      ]
    },
    {
      "cell_type": "markdown",
      "source": [
        "# Examen 2: Reconocimiento de Patrones"
      ],
      "metadata": {
        "id": "xWAbuqSCCXea"
      }
    },
    {
      "cell_type": "code",
      "source": [
        "import numpy as np"
      ],
      "metadata": {
        "id": "AAQR11RqqYVI"
      },
      "execution_count": null,
      "outputs": []
    },
    {
      "cell_type": "markdown",
      "source": [
        "## Pregunta 1\n",
        "\n",
        "Normalización."
      ],
      "metadata": {
        "id": "fLJEAIfOpWdL"
      }
    },
    {
      "cell_type": "code",
      "source": [
        "c1 = [3/5, 3/4, 1/4]\n",
        "c2 = [3/5, 1/4, 3/4]"
      ],
      "metadata": {
        "id": "Ws91YnDtpZx_"
      },
      "execution_count": null,
      "outputs": []
    },
    {
      "cell_type": "code",
      "source": [
        "def normminmax(lista):\n",
        "  listanorm = []\n",
        "  for i in lista:\n",
        "    listanorm.append(i/np.sum(lista))\n",
        "  print(listanorm)"
      ],
      "metadata": {
        "id": "2o38QoPvpoAC"
      },
      "execution_count": null,
      "outputs": []
    },
    {
      "cell_type": "code",
      "source": [
        "# C1\n",
        "normminmax(c1)"
      ],
      "metadata": {
        "colab": {
          "base_uri": "https://localhost:8080/"
        },
        "id": "sAoy5romqQ8r",
        "outputId": "03df7af0-e39b-4d07-d4a6-19b35dc7b13e"
      },
      "execution_count": null,
      "outputs": [
        {
          "output_type": "stream",
          "name": "stdout",
          "text": [
            "[0.37499999999999994, 0.46875, 0.15625]\n"
          ]
        }
      ]
    },
    {
      "cell_type": "code",
      "source": [
        "normminmax(c2)"
      ],
      "metadata": {
        "colab": {
          "base_uri": "https://localhost:8080/"
        },
        "id": "dANqy9-RrEX6",
        "outputId": "c77a0bad-3cf8-4aba-da93-3e04df825cfc"
      },
      "execution_count": null,
      "outputs": [
        {
          "output_type": "stream",
          "name": "stdout",
          "text": [
            "[0.37499999999999994, 0.15625, 0.46875]\n"
          ]
        }
      ]
    },
    {
      "cell_type": "markdown",
      "source": [
        "## Pegunta 3."
      ],
      "metadata": {
        "id": "egKAeXzVCdus"
      }
    },
    {
      "cell_type": "code",
      "execution_count": null,
      "metadata": {
        "id": "X5bZDawfCIS9"
      },
      "outputs": [],
      "source": [
        "\n",
        "\n",
        "def Mcov(x):\n",
        "    x = np.array(x).T\n",
        "    M = []\n",
        "    for i in range(len(x)):\n",
        "        Mj = []\n",
        "        for j in range(len(x)):\n",
        "            xr = np.mean(x[i])\n",
        "            yr = np.mean(x[j])\n",
        "            cov = sum((x[i]-xr)*(x[j]-yr))/len(x[i])\n",
        "            Mj.append(cov)\n",
        "        M.append(Mj)\n",
        "    return(np.array(M))"
      ]
    },
    {
      "cell_type": "code",
      "source": [
        "# C1\n",
        "Mcov([[0,0],[1, 0],[0,1],[1,1]])"
      ],
      "metadata": {
        "colab": {
          "base_uri": "https://localhost:8080/"
        },
        "id": "x48gyui2GJHy",
        "outputId": "1146800b-be00-48a9-fdf7-6bed5ed2ce62"
      },
      "execution_count": null,
      "outputs": [
        {
          "output_type": "execute_result",
          "data": {
            "text/plain": [
              "array([[0.25, 0.  ],\n",
              "       [0.  , 0.25]])"
            ]
          },
          "metadata": {},
          "execution_count": 8
        }
      ]
    },
    {
      "cell_type": "code",
      "source": [
        "# C2\n",
        "Mcov([[-1,0],[0, -1],[-1,-1],[-2,-2]])"
      ],
      "metadata": {
        "colab": {
          "base_uri": "https://localhost:8080/"
        },
        "id": "KUB8LSSmIPDu",
        "outputId": "c6a73a6c-a1c5-46f4-f426-b0ca9f59bf02"
      },
      "execution_count": null,
      "outputs": [
        {
          "output_type": "execute_result",
          "data": {
            "text/plain": [
              "array([[0.5 , 0.25],\n",
              "       [0.25, 0.5 ]])"
            ]
          },
          "metadata": {},
          "execution_count": 9
        }
      ]
    },
    {
      "cell_type": "markdown",
      "source": [
        "## Problema 4\n"
      ],
      "metadata": {
        "id": "lyFHEeH1oZB5"
      }
    },
    {
      "cell_type": "code",
      "source": [
        "def pol1(x1, x2):\n",
        "  return 1\n",
        "\n",
        "def pol2(x1, x2):\n",
        "  return 2*x2\n",
        "  \n",
        "def pol3(x1, x2):\n",
        "  return 4*x2**2-2\n",
        "  \n",
        "def pol4(x1, x2):\n",
        "  return 2*x1\n",
        "  \n",
        "def pol5(x1, x2):\n",
        "  return 4*x1*x2\n",
        "  \n",
        "def pol6(x1, x2):\n",
        "  return 8*x1*x2**2-4*x1\n",
        "  \n",
        "def pol7(x1, x2):\n",
        "  return 4*x1**2-2\n",
        "\n",
        "def pol8(x1, x2):\n",
        "  return 8*x2*x1**2-4*x2\n",
        "  \n",
        "def pol9(x1, x2):\n",
        "  return 16*(x1**2)*(x2**2) - 8*x2**2 - 8*x1**2 + 4"
      ],
      "metadata": {
        "id": "Lox5wDNPos9N"
      },
      "execution_count": null,
      "outputs": []
    },
    {
      "cell_type": "code",
      "source": [
        "polis = [pol1, pol2, pol3, pol4, pol5, pol6, pol7, pol8, pol9]"
      ],
      "metadata": {
        "id": "N8e38Q-5rG1u"
      },
      "execution_count": null,
      "outputs": []
    },
    {
      "cell_type": "code",
      "source": [
        "\n",
        "import numpy as np\n",
        "def polinomios(valores, pol):\n",
        "  suma = []\n",
        "  for i in range(len(valores)):\n",
        "    suma.append(pol(valores[i][0], valores[i][1]))\n",
        "  print(suma, sum(suma))"
      ],
      "metadata": {
        "id": "wtOtVnI3I9DP"
      },
      "execution_count": null,
      "outputs": []
    },
    {
      "cell_type": "code",
      "source": [
        "c1 = [[1,0],[1,1],[2,1],[3,0],[4,1]]\n",
        "c2 = [[-1,0],[-2,0],[-2,-1],[-3,1],[-3,2]]"
      ],
      "metadata": {
        "id": "zxTgBipWpRuE"
      },
      "execution_count": null,
      "outputs": []
    },
    {
      "cell_type": "code",
      "source": [
        "for pol in polis:\n",
        "  polinomios(c1, pol)"
      ],
      "metadata": {
        "colab": {
          "base_uri": "https://localhost:8080/"
        },
        "id": "DA0Gso_BpYWr",
        "outputId": "0fc86359-54cf-461d-82a2-278055123ae8"
      },
      "execution_count": null,
      "outputs": [
        {
          "output_type": "stream",
          "name": "stdout",
          "text": [
            "[1, 1, 1, 1, 1] 5\n",
            "[0, 2, 2, 0, 2] 6\n",
            "[-2, 2, 2, -2, 2] 2\n",
            "[2, 2, 4, 6, 8] 22\n",
            "[0, 4, 8, 0, 16] 28\n",
            "[-4, 4, 8, -12, 16] 12\n",
            "[2, 2, 14, 34, 62] 114\n",
            "[0, 4, 28, 0, 124] 156\n",
            "[-4, 4, 28, -68, 124] 84\n"
          ]
        }
      ]
    },
    {
      "cell_type": "code",
      "source": [
        "for pol in polis:\n",
        "  polinomios(c2, pol)"
      ],
      "metadata": {
        "colab": {
          "base_uri": "https://localhost:8080/"
        },
        "id": "2yNJ-eM1pr7y",
        "outputId": "a1604628-8fee-4e7c-91a4-36a681c32478"
      },
      "execution_count": null,
      "outputs": [
        {
          "output_type": "stream",
          "name": "stdout",
          "text": [
            "[1, 1, 1, 1, 1] 5\n",
            "[0, 0, -2, 2, 4] 4\n",
            "[-2, -2, 2, 2, 14] 14\n",
            "[-2, -4, -4, -6, -6] -22\n",
            "[0, 0, 8, -12, -24] -28\n",
            "[4, 8, -8, -12, -84] -92\n",
            "[2, 14, 14, 34, 34] 98\n",
            "[0, 0, -28, 68, 136] 176\n",
            "[-4, -28, 28, 68, 476] 540\n"
          ]
        }
      ]
    },
    {
      "cell_type": "code",
      "source": [
        ""
      ],
      "metadata": {
        "id": "nn8aiV5srlOX"
      },
      "execution_count": null,
      "outputs": []
    }
  ]
}